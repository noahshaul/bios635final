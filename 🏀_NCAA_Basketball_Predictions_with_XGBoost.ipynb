{
  "metadata": {
    "kernelspec": {
      "language": "python",
      "display_name": "Python 3",
      "name": "python3"
    },
    "language_info": {
      "name": "python",
      "version": "3.10.12",
      "mimetype": "text/x-python",
      "codemirror_mode": {
        "name": "ipython",
        "version": 3
      },
      "pygments_lexer": "ipython3",
      "nbconvert_exporter": "python",
      "file_extension": ".py"
    },
    "kaggle": {
      "accelerator": "nvidiaTeslaT4",
      "dataSources": [
        {
          "sourceId": 91497,
          "databundleVersionId": 11018643,
          "sourceType": "competition"
        }
      ],
      "dockerImageVersionId": 30887,
      "isInternetEnabled": true,
      "language": "python",
      "sourceType": "notebook",
      "isGpuEnabled": true
    },
    "colab": {
      "name": "🏀 NCAA Basketball Predictions with XGBoost",
      "provenance": []
    }
  },
  "nbformat_minor": 0,
  "nbformat": 4,
  "cells": [
    {
      "source": [
        "# IMPORTANT: SOME KAGGLE DATA SOURCES ARE PRIVATE\n",
        "# RUN THIS CELL IN ORDER TO IMPORT YOUR KAGGLE DATA SOURCES.\n",
        "import kagglehub\n",
        "kagglehub.login()\n"
      ],
      "metadata": {
        "id": "iQArZ6v-Kti7"
      },
      "cell_type": "code",
      "outputs": [],
      "execution_count": null
    },
    {
      "source": [
        "# IMPORTANT: RUN THIS CELL IN ORDER TO IMPORT YOUR KAGGLE DATA SOURCES,\n",
        "# THEN FEEL FREE TO DELETE THIS CELL.\n",
        "# NOTE: THIS NOTEBOOK ENVIRONMENT DIFFERS FROM KAGGLE'S PYTHON\n",
        "# ENVIRONMENT SO THERE MAY BE MISSING LIBRARIES USED BY YOUR\n",
        "# NOTEBOOK.\n",
        "\n",
        "march_machine_learning_mania_2025_path = kagglehub.competition_download('march-machine-learning-mania-2025')\n",
        "\n",
        "print('Data source import complete.')\n"
      ],
      "metadata": {
        "id": "feUBGO4eKti8"
      },
      "cell_type": "code",
      "outputs": [],
      "execution_count": null
    },
    {
      "cell_type": "markdown",
      "source": [
        "## 📌 1. Import Libraries"
      ],
      "metadata": {
        "id": "098zpmPVKti9"
      }
    },
    {
      "cell_type": "code",
      "source": [
        "import numpy as np\n",
        "import pandas as pd\n",
        "\n",
        "from sklearn import *\n",
        "import matplotlib.pyplot as plt\n",
        "import seaborn as sns\n",
        "import glob\n",
        "\n",
        "from sklearn.model_selection import train_test_split, cross_val_score\n",
        "from sklearn.preprocessing import StandardScaler\n",
        "from sklearn.impute import SimpleImputer\n",
        "from sklearn.metrics import log_loss, mean_absolute_error, brier_score_loss\n",
        "from xgboost import XGBRegressor\n",
        "\n",
        "import warnings\n",
        "warnings.filterwarnings(\"ignore\")"
      ],
      "metadata": {
        "_uuid": "8f2839f25d086af736a60e9eeb907d3b93b6e0e5",
        "_cell_guid": "b1076dfc-b9ad-4769-8c92-a6c4dae69d19",
        "trusted": true,
        "execution": {
          "iopub.status.busy": "2025-03-11T13:27:55.780639Z",
          "iopub.execute_input": "2025-03-11T13:27:55.780821Z",
          "iopub.status.idle": "2025-03-11T13:27:58.630695Z",
          "shell.execute_reply.started": "2025-03-11T13:27:55.780803Z",
          "shell.execute_reply": "2025-03-11T13:27:58.629874Z"
        },
        "id": "cBo5IlXVKti9"
      },
      "outputs": [],
      "execution_count": null
    },
    {
      "cell_type": "markdown",
      "source": [
        "## 📂 2. Load Dataset"
      ],
      "metadata": {
        "id": "8TaY_3LXKti-"
      }
    },
    {
      "cell_type": "code",
      "source": [
        "path = '/kaggle/input/march-machine-learning-mania-2025/**'\n",
        "data = {p.split('/')[-1].split('.')[0] : pd.read_csv(p, encoding='latin-1') for p in glob.glob(path)}\n",
        "\n",
        "teams = pd.concat([data['MTeams'], data['WTeams']])\n",
        "teams_spelling = pd.concat([data['MTeamSpellings'], data['WTeamSpellings']])\n",
        "teams_spelling = teams_spelling.groupby(by='TeamID', as_index=False)['TeamNameSpelling'].count()\n",
        "teams_spelling.columns = ['TeamID', 'TeamNameCount']\n",
        "teams = pd.merge(teams, teams_spelling, how='left', on=['TeamID'])\n",
        "del teams_spelling\n",
        "\n",
        "season_cresults = pd.concat([data['MRegularSeasonCompactResults'], data['WRegularSeasonCompactResults']])\n",
        "season_dresults = pd.concat([data['MRegularSeasonDetailedResults'], data['WRegularSeasonDetailedResults']])\n",
        "tourney_dresults = pd.concat([data['MNCAATourneyDetailedResults'], data['WNCAATourneyDetailedResults']])\n",
        "tourney_cresults = pd.concat([data['MNCAATourneyCompactResults'], data['WNCAATourneyCompactResults']])\n",
        "slots = pd.concat([data['MNCAATourneySlots'], data['WNCAATourneySlots']])\n",
        "seeds = pd.concat([data['MNCAATourneySeeds'], data['WNCAATourneySeeds']])\n",
        "seeds_dict = {'_'.join(map(str,[int(k1),k2])):int(v[1:3]) for k1, v, k2 in seeds[['Season', 'Seed', 'TeamID']].values}\n",
        "gcities = pd.concat([data['MGameCities'], data['WGameCities']])\n",
        "seasons = pd.concat([data['MSeasons'], data['WSeasons']])"
      ],
      "metadata": {
        "trusted": true,
        "execution": {
          "iopub.status.busy": "2025-03-11T13:28:01.793453Z",
          "iopub.execute_input": "2025-03-11T13:28:01.793725Z",
          "iopub.status.idle": "2025-03-11T13:28:06.313181Z",
          "shell.execute_reply.started": "2025-03-11T13:28:01.793704Z",
          "shell.execute_reply": "2025-03-11T13:28:06.312493Z"
        },
        "id": "lLfLYggqKti-"
      },
      "outputs": [],
      "execution_count": null
    },
    {
      "cell_type": "markdown",
      "source": [
        "## 🔍 3. Feature Engineering"
      ],
      "metadata": {
        "id": "1AWLAPaVKti_"
      }
    },
    {
      "cell_type": "code",
      "source": [
        "seeds = {'_'.join(map(str,[int(k1),k2])):int(v[1:3]) for k1, v, k2 in seeds[['Season', 'Seed', 'TeamID']].values}\n",
        "cities = data['Cities']\n",
        "sub = data['SampleSubmissionStage1']\n",
        "del data\n",
        "\n",
        "season_cresults['ST'] = 'S'\n",
        "season_dresults['ST'] = 'S'\n",
        "tourney_cresults['ST'] = 'T'\n",
        "tourney_dresults['ST'] = 'T'\n",
        "\n",
        "games = pd.concat((season_dresults, tourney_dresults), axis=0, ignore_index=True)\n",
        "games.reset_index(drop=True, inplace=True)\n",
        "games['WLoc'] = games['WLoc'].map({'A': 1, 'H': 2, 'N': 3})\n",
        "\n",
        "games['ID'] = games.apply(lambda r: '_'.join(map(str, [r['Season']]+sorted([r['WTeamID'],r['LTeamID']]))), axis=1)\n",
        "games['IDTeams'] = games.apply(lambda r: '_'.join(map(str, sorted([r['WTeamID'],r['LTeamID']]))), axis=1)\n",
        "games['Team1'] = games.apply(lambda r: sorted([r['WTeamID'],r['LTeamID']])[0], axis=1)\n",
        "games['Team2'] = games.apply(lambda r: sorted([r['WTeamID'],r['LTeamID']])[1], axis=1)\n",
        "games['IDTeam1'] = games.apply(lambda r: '_'.join(map(str, [r['Season'], r['Team1']])), axis=1)\n",
        "games['IDTeam2'] = games.apply(lambda r: '_'.join(map(str, [r['Season'], r['Team2']])), axis=1)\n",
        "\n",
        "games['Team1Seed'] = games['IDTeam1'].map(seeds).fillna(0)\n",
        "games['Team2Seed'] = games['IDTeam2'].map(seeds).fillna(0)\n",
        "\n",
        "games['ScoreDiff'] = games['WScore'] - games['LScore']\n",
        "games['Pred'] = games.apply(lambda r: 1. if sorted([r['WTeamID'],r['LTeamID']])[0]==r['WTeamID'] else 0., axis=1)\n",
        "games['ScoreDiffNorm'] = games.apply(lambda r: r['ScoreDiff'] * -1 if r['Pred'] == 0. else r['ScoreDiff'], axis=1)\n",
        "games['SeedDiff'] = games['Team1Seed'] - games['Team2Seed']\n",
        "games = games.fillna(-1)\n",
        "\n",
        "c_score_col = ['NumOT', 'WFGM', 'WFGA', 'WFGM3', 'WFGA3', 'WFTM', 'WFTA', 'WOR', 'WDR', 'WAst', 'WTO', 'WStl',\n",
        " 'WBlk', 'WPF', 'LFGM', 'LFGA', 'LFGM3', 'LFGA3', 'LFTM', 'LFTA', 'LOR', 'LDR', 'LAst', 'LTO', 'LStl',\n",
        " 'LBlk', 'LPF']\n",
        "c_score_agg = ['sum', 'mean', 'median', 'max', 'min', 'std', 'skew', 'nunique']\n",
        "gb = games.groupby(by=['IDTeams']).agg({k: c_score_agg for k in c_score_col}).reset_index()\n",
        "gb.columns = [''.join(c) + '_c_score' for c in gb.columns]\n",
        "\n",
        "games = games[games['ST']=='T']\n",
        "\n",
        "sub['WLoc'] = 3\n",
        "sub['Season'] = sub['ID'].map(lambda x: x.split('_')[0])\n",
        "sub['Season'] = sub['ID'].map(lambda x: x.split('_')[0])\n",
        "sub['Season'] = sub['Season'].astype(int)\n",
        "sub['Team1'] = sub['ID'].map(lambda x: x.split('_')[1])\n",
        "sub['Team2'] = sub['ID'].map(lambda x: x.split('_')[2])\n",
        "sub['IDTeams'] = sub.apply(lambda r: '_'.join(map(str, [r['Team1'], r['Team2']])), axis=1)\n",
        "sub['IDTeam1'] = sub.apply(lambda r: '_'.join(map(str, [r['Season'], r['Team1']])), axis=1)\n",
        "sub['IDTeam2'] = sub.apply(lambda r: '_'.join(map(str, [r['Season'], r['Team2']])), axis=1)\n",
        "sub['Team1Seed'] = sub['IDTeam1'].map(seeds).fillna(0)\n",
        "sub['Team2Seed'] = sub['IDTeam2'].map(seeds).fillna(0)\n",
        "sub['SeedDiff'] = sub['Team1Seed'] - sub['Team2Seed']\n",
        "sub = sub.fillna(-1)\n",
        "\n",
        "games = pd.merge(games, gb, how='left', left_on='IDTeams', right_on='IDTeams_c_score')\n",
        "sub = pd.merge(sub, gb, how='left', left_on='IDTeams', right_on='IDTeams_c_score')\n",
        "\n",
        "col = [c for c in games.columns if c not in ['ID', 'DayNum', 'ST', 'Team1', 'Team2', 'IDTeams', 'IDTeam1', 'IDTeam2', 'WTeamID', 'WScore', 'LTeamID', 'LScore', 'NumOT', 'Pred', 'ScoreDiff', 'ScoreDiffNorm', 'WLoc'] + c_score_col]"
      ],
      "metadata": {
        "trusted": true,
        "execution": {
          "iopub.status.busy": "2025-03-11T13:28:06.314223Z",
          "iopub.execute_input": "2025-03-11T13:28:06.314558Z",
          "iopub.status.idle": "2025-03-11T13:28:35.705905Z",
          "shell.execute_reply.started": "2025-03-11T13:28:06.314535Z",
          "shell.execute_reply": "2025-03-11T13:28:35.70491Z"
        },
        "id": "wwr0vRgGKti_"
      },
      "outputs": [],
      "execution_count": null
    },
    {
      "cell_type": "markdown",
      "source": [
        "## 📊 4. Data Visualization"
      ],
      "metadata": {
        "id": "E0mzVfRzKti_"
      }
    },
    {
      "cell_type": "markdown",
      "source": [
        "### 4.1 Win Distribution by Seed Matchups"
      ],
      "metadata": {
        "id": "wUDMcCz8KtjA"
      }
    },
    {
      "cell_type": "code",
      "source": [
        "tourney_dresults['WSeed'] = tourney_dresults.apply(lambda r: seeds_dict.get(f\"{r['Season']}_{r['WTeamID']}\", np.nan), axis=1)\n",
        "tourney_dresults['LSeed'] = tourney_dresults.apply(lambda r: seeds_dict.get(f\"{r['Season']}_{r['LTeamID']}\", np.nan), axis=1)\n",
        "tourney_dresults['Seed_Diff'] = tourney_dresults['WSeed'] - tourney_dresults['LSeed']\n",
        "\n",
        "seed_win_counts = tourney_dresults.groupby(['WSeed', 'LSeed']).size().reset_index(name='WinCount')\n",
        "plt.figure(figsize=(12, 8))\n",
        "heatmap_data = seed_win_counts.pivot(index='LSeed', columns='WSeed', values='WinCount')\n",
        "sns.heatmap(heatmap_data, cmap=\"coolwarm\", annot=True, fmt=\".0f\", linewidths=0.5)\n",
        "\n",
        "plt.title(\"Win Distribution by Seed Matchups\")\n",
        "plt.xlabel(\"Winning Seed\")\n",
        "plt.ylabel(\"Losing Seed\")\n",
        "plt.show()"
      ],
      "metadata": {
        "trusted": true,
        "id": "hj9I8Eu_KtjA"
      },
      "outputs": [],
      "execution_count": null
    },
    {
      "cell_type": "markdown",
      "source": [
        "### 4.2 Score Distribution of Winning & Losing Teams"
      ],
      "metadata": {
        "id": "aLddrG1hKtjA"
      }
    },
    {
      "cell_type": "code",
      "source": [
        "plt.figure(figsize=(12,6))\n",
        "sns.histplot(season_dresults['WScore'], bins=30, kde=True, color='blue', label='Winning Score')\n",
        "sns.histplot(season_dresults['LScore'], bins=30, kde=True, color='red', label='Losing Score')\n",
        "plt.legend()\n",
        "plt.title(\"Score Distribution of Winning & Losing Teams\")\n",
        "plt.xlabel(\"Score\")\n",
        "plt.ylabel(\"Frequency\")\n",
        "plt.show()"
      ],
      "metadata": {
        "trusted": true,
        "id": "-yd08_rNKtjB"
      },
      "outputs": [],
      "execution_count": null
    },
    {
      "cell_type": "markdown",
      "source": [
        "### 4.3 Win Rate by Seed"
      ],
      "metadata": {
        "id": "8YkCus0hKtjB"
      }
    },
    {
      "cell_type": "code",
      "source": [
        "seed_win_rate = tourney_dresults.groupby('WSeed').size() / tourney_dresults.groupby('WSeed').size().sum() * 100\n",
        "plt.figure(figsize=(12, 6))\n",
        "sns.barplot(x=seed_win_rate.index, y=seed_win_rate.values, palette=\"viridis\")\n",
        "plt.title(\"Win Rate by Seed (%)\")\n",
        "plt.xlabel(\"Seed Number\")\n",
        "plt.ylabel(\"Win Percentage\")\n",
        "plt.show()"
      ],
      "metadata": {
        "trusted": true,
        "id": "uKF43dQJKtjB"
      },
      "outputs": [],
      "execution_count": null
    },
    {
      "cell_type": "markdown",
      "source": [
        "### 4.4 Seed Difference vs. Winning Seed"
      ],
      "metadata": {
        "id": "I6oFuSbcKtjB"
      }
    },
    {
      "cell_type": "code",
      "source": [
        "plt.figure(figsize=(12, 6))\n",
        "sns.scatterplot(x=tourney_dresults['Seed_Diff'], y=tourney_dresults['WSeed'], alpha=0.6)\n",
        "plt.title(\"Seed Difference vs. Winning Seed\")\n",
        "plt.xlabel(\"Seed Difference (Winning - Losing)\")\n",
        "plt.ylabel(\"Winning Seed\")\n",
        "plt.axvline(0, linestyle=\"--\", color=\"red\", alpha=0.7)  # Highlight equal seeds\n",
        "plt.show()"
      ],
      "metadata": {
        "trusted": true,
        "id": "xMuDUJHoKtjB"
      },
      "outputs": [],
      "execution_count": null
    },
    {
      "cell_type": "markdown",
      "source": [
        "### 4.5 Upset Rate Over the Years (Lower Seed Wins"
      ],
      "metadata": {
        "id": "u7sd-1SIKtjC"
      }
    },
    {
      "cell_type": "code",
      "source": [
        "tourney_dresults['Upset'] = (tourney_dresults['Seed_Diff'] > 0).astype(int)  # 1 if lower seed wins\n",
        "upset_rate_per_year = tourney_dresults.groupby('Season')['Upset'].mean() * 100\n",
        "plt.figure(figsize=(12, 6))\n",
        "sns.lineplot(x=upset_rate_per_year.index, y=upset_rate_per_year.values, marker=\"o\", color=\"darkred\")\n",
        "plt.title(\"Upset Rate Over the Years (Lower Seed Wins)\")\n",
        "plt.xlabel(\"Season\")\n",
        "plt.ylabel(\"Upset Percentage (%)\")\n",
        "plt.show()"
      ],
      "metadata": {
        "trusted": true,
        "id": "NsDFXDVGKtjC"
      },
      "outputs": [],
      "execution_count": null
    },
    {
      "cell_type": "markdown",
      "source": [
        "### 4.6 Winning & Losing Score Distribution Over Years"
      ],
      "metadata": {
        "id": "mdzIZbw2KtjC"
      }
    },
    {
      "cell_type": "code",
      "source": [
        "plt.figure(figsize=(12, 6))\n",
        "tourney_dresults_melted = tourney_dresults.melt(id_vars=['Season'], value_vars=['WScore', 'LScore'],\n",
        "                                                var_name=\"Winner/Loser\", value_name=\"Score\")\n",
        "sns.boxplot(data=tourney_dresults_melted, x='Season', y='Score', hue=\"Winner/Loser\",\n",
        "            palette={\"WScore\": \"blue\", \"LScore\": \"red\"})\n",
        "plt.title(\"Winning & Losing Score Distribution Over Years\")\n",
        "plt.xlabel(\"Season\")\n",
        "plt.ylabel(\"Score\")\n",
        "plt.xticks(rotation=90)\n",
        "handles, labels = plt.gca().get_legend_handles_labels()\n",
        "plt.legend(handles, [\"Winning Score\", \"Losing Score\"], title=\"Score Type\")\n",
        "plt.show()"
      ],
      "metadata": {
        "trusted": true,
        "id": "IiSNGuKHKtjC"
      },
      "outputs": [],
      "execution_count": null
    },
    {
      "cell_type": "markdown",
      "source": [
        "### 4.7 Average Winning Score Difference Over Years"
      ],
      "metadata": {
        "id": "XVwYIJh2KtjC"
      }
    },
    {
      "cell_type": "code",
      "source": [
        "tourney_dresults['Score_Diff'] = tourney_dresults['WScore'] - tourney_dresults['LScore']\n",
        "score_diff_trend = tourney_dresults.groupby('Season')['Score_Diff'].mean()\n",
        "plt.figure(figsize=(12, 6))\n",
        "sns.lineplot(x=score_diff_trend.index, y=score_diff_trend.values, marker=\"o\", color=\"purple\")\n",
        "plt.title(\"Average Winning Score Difference Over Years\")\n",
        "plt.xlabel(\"Season\")\n",
        "plt.ylabel(\"Winning Margin\")\n",
        "plt.show()"
      ],
      "metadata": {
        "trusted": true,
        "id": "QdNIxLhIKtjC"
      },
      "outputs": [],
      "execution_count": null
    },
    {
      "cell_type": "markdown",
      "source": [
        "### 4.8 Top 15 Most Successful Teams (Based on Tournament Wins)"
      ],
      "metadata": {
        "id": "bitvHwx2KtjC"
      }
    },
    {
      "cell_type": "code",
      "source": [
        "tourney_dresults = tourney_dresults.merge(teams, left_on='WTeamID', right_on='TeamID', how='left')\n",
        "tourney_dresults = tourney_dresults.rename(columns={'TeamName': 'WinningTeam'})\n",
        "tourney_dresults = tourney_dresults.merge(teams, left_on='LTeamID', right_on='TeamID', how='left')\n",
        "tourney_dresults = tourney_dresults.rename(columns={'TeamName': 'LosingTeam'})\n",
        "team_win_counts = tourney_dresults['WinningTeam'].value_counts().head(15)\n",
        "plt.figure(figsize=(12, 6))\n",
        "sns.barplot(x=team_win_counts.values, y=team_win_counts.index, palette=\"magma\")\n",
        "plt.title(\"Top 15 Most Successful Teams (Based on Tournament Wins)\")\n",
        "plt.xlabel(\"Number of Wins\")\n",
        "plt.ylabel(\"Team Name\")\n",
        "plt.show()"
      ],
      "metadata": {
        "trusted": true,
        "id": "AZNB8ZolKtjC"
      },
      "outputs": [],
      "execution_count": null
    },
    {
      "cell_type": "markdown",
      "source": [
        "### 4.9 Cinderella Stories - Most Wins by Low Seeded Teams"
      ],
      "metadata": {
        "id": "0DeM0ZmGKtjC"
      }
    },
    {
      "cell_type": "code",
      "source": [
        "cinderella_teams = tourney_dresults[tourney_dresults['WSeed'] >= 10]['WinningTeam'].value_counts().head(10)\n",
        "plt.figure(figsize=(12, 6))\n",
        "sns.barplot(x=cinderella_teams.values, y=cinderella_teams.index, palette=\"Blues_r\")\n",
        "plt.title(\"Cinderella Stories - Most Wins by Low Seeded Teams\")\n",
        "plt.xlabel(\"Number of Wins\")\n",
        "plt.ylabel(\"Team Name\")\n",
        "plt.show()"
      ],
      "metadata": {
        "trusted": true,
        "id": "9bsapwDlKtjC"
      },
      "outputs": [],
      "execution_count": null
    },
    {
      "cell_type": "markdown",
      "source": [
        "## 🚀 5. Train XGBoost Model"
      ],
      "metadata": {
        "id": "6IYMFG50KtjC"
      }
    },
    {
      "cell_type": "code",
      "source": [
        "imputer = SimpleImputer(strategy='mean')\n",
        "scaler = StandardScaler()\n",
        "\n",
        "X = games[col].fillna(-1)\n",
        "missing_cols = set(col) - set(sub.columns)\n",
        "for c in missing_cols:\n",
        "    sub[c] = 0\n",
        "\n",
        "X_imputed = imputer.fit_transform(X)\n",
        "X_scaled = scaler.fit_transform(X_imputed)\n",
        "\n",
        "xgb = XGBRegressor(n_estimators=5000,device=\"gpu\", learning_rate=0.03, max_depth=6, random_state=42)\n",
        "xgb.fit(X_scaled, games['Pred'])\n",
        "\n",
        "pred = xgb.predict(X_scaled).clip(0.001, 0.999)\n",
        "\n",
        "print(f'Log Loss: {log_loss(games[\"Pred\"], pred)}')\n",
        "print(f'Mean Absolute Error: {mean_absolute_error(games[\"Pred\"], pred)}')\n",
        "print(f'Brier Score: {brier_score_loss(games[\"Pred\"], pred)}')\n",
        "\n",
        "cv_scores = cross_val_score(xgb, X_scaled, games['Pred'], cv=5, scoring='neg_mean_squared_error')\n",
        "print(f'Cross-validated MSE: {-cv_scores.mean()}')"
      ],
      "metadata": {
        "trusted": true,
        "execution": {
          "iopub.status.busy": "2025-03-11T13:28:35.707224Z",
          "iopub.execute_input": "2025-03-11T13:28:35.707483Z",
          "iopub.status.idle": "2025-03-11T13:29:44.624603Z",
          "shell.execute_reply.started": "2025-03-11T13:28:35.707462Z",
          "shell.execute_reply": "2025-03-11T13:29:44.623593Z"
        },
        "id": "We76256VKtjD"
      },
      "outputs": [],
      "execution_count": null
    },
    {
      "cell_type": "markdown",
      "source": [
        "## 📤 6. Create Submission File"
      ],
      "metadata": {
        "id": "ww_Qo4A5KtjD"
      }
    },
    {
      "cell_type": "code",
      "source": [
        "sub_X = sub[col].fillna(-1)\n",
        "sub_X_imputed = imputer.transform(sub_X)\n",
        "sub_X_scaled = scaler.transform(sub_X_imputed)\n",
        "\n",
        "sub['Pred'] = xgb.predict(sub_X_scaled).clip(0.001, 0.999)\n",
        "sub[['ID', 'Pred']].to_csv('submission.csv', index=False)"
      ],
      "metadata": {
        "trusted": true,
        "execution": {
          "iopub.status.busy": "2025-03-11T13:30:00.966265Z",
          "iopub.execute_input": "2025-03-11T13:30:00.966566Z",
          "iopub.status.idle": "2025-03-11T13:30:30.963153Z",
          "shell.execute_reply.started": "2025-03-11T13:30:00.966541Z",
          "shell.execute_reply": "2025-03-11T13:30:30.962455Z"
        },
        "id": "GY0GOS-DKtjD"
      },
      "outputs": [],
      "execution_count": null
    },
    {
      "cell_type": "markdown",
      "source": [
        "###  Thank You for Checking Out This Notebook!  \n",
        "If you found this notebook helpful, an **upvote** would mean a lot! 👍  \n",
        "Your support keeps me motivated to create more insightful notebooks.  "
      ],
      "metadata": {
        "id": "kCCFYsCSKtjD"
      }
    }
  ]
}