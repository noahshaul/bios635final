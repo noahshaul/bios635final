{
  "metadata": {
    "kernelspec": {
      "language": "python",
      "display_name": "Python 3",
      "name": "python3"
    },
    "language_info": {
      "name": "python",
      "version": "3.10.12",
      "mimetype": "text/x-python",
      "codemirror_mode": {
        "name": "ipython",
        "version": 3
      },
      "pygments_lexer": "ipython3",
      "nbconvert_exporter": "python",
      "file_extension": ".py"
    },
    "kaggle": {
      "accelerator": "none",
      "dataSources": [
        {
          "sourceId": 91497,
          "databundleVersionId": 11320667,
          "sourceType": "competition"
        }
      ],
      "dockerImageVersionId": 30918,
      "isInternetEnabled": true,
      "language": "python",
      "sourceType": "notebook",
      "isGpuEnabled": false
    },
    "colab": {
      "name": "March ML 2025 EDA: Only Advanced Insights👀📊",
      "provenance": []
    }
  },
  "nbformat_minor": 0,
  "nbformat": 4,
  "cells": [
    {
      "source": [
        "# IMPORTANT: SOME KAGGLE DATA SOURCES ARE PRIVATE\n",
        "# RUN THIS CELL IN ORDER TO IMPORT YOUR KAGGLE DATA SOURCES.\n",
        "import kagglehub\n",
        "kagglehub.login()\n"
      ],
      "metadata": {
        "id": "b8Ulp1xrH6Fg"
      },
      "cell_type": "code",
      "outputs": [],
      "execution_count": null
    },
    {
      "source": [
        "# IMPORTANT: RUN THIS CELL IN ORDER TO IMPORT YOUR KAGGLE DATA SOURCES,\n",
        "# THEN FEEL FREE TO DELETE THIS CELL.\n",
        "# NOTE: THIS NOTEBOOK ENVIRONMENT DIFFERS FROM KAGGLE'S PYTHON\n",
        "# ENVIRONMENT SO THERE MAY BE MISSING LIBRARIES USED BY YOUR\n",
        "# NOTEBOOK.\n",
        "\n",
        "march_machine_learning_mania_2025_path = kagglehub.competition_download('march-machine-learning-mania-2025')\n",
        "\n",
        "print('Data source import complete.')\n"
      ],
      "metadata": {
        "id": "t7KEVAhuH6Fh"
      },
      "cell_type": "code",
      "outputs": [],
      "execution_count": null
    },
    {
      "cell_type": "markdown",
      "source": [
        "<div style=\"font-family: Arial, sans-serif; text-align: center; padding: 40px 20px; background-color: #f0f8ff; border-radius: 10px; box-shadow: 0 4px 8px rgba(0, 0, 0, 0.1); margin: 20px auto; max-width: 600px;\">\n",
        "  <h1 style=\"color: #3366cc; font-size: 2.5em; margin-bottom: 10px; text-shadow: 1px 1px 2px rgba(0, 0, 0, 0.1);\">March Machine Learning Mania 2025</h1>\n",
        "  <h2 style=\"color: #555; font-size: 1.5em; font-weight: 300; margin-bottom: 20px;\">Forecast the 2025 NCAA Basketball Tournaments</h2>\n",
        "  <p style=\"color: #666; line-height: 1.6;\"><center>Get ready to predict the outcomes of the 2025 NCAA Men's and Women's Basketball Tournaments using machine learning.</center></p>\n",
        "</div>"
      ],
      "metadata": {
        "id": "novTkIsHH6Fi"
      }
    },
    {
      "cell_type": "markdown",
      "source": [
        "<h2 style=\"font-size: 2em; color: #007bff; border-bottom: 2px solid #ddd; padding-bottom: 10px; margin-bottom: 20px; font-family: sans-serif;\">IMPORTING LIBRARIES</h2>"
      ],
      "metadata": {
        "id": "4G3ud8EGH6Fi"
      }
    },
    {
      "cell_type": "code",
      "source": [
        "import pandas as pd\n",
        "import numpy as np\n",
        "import os\n",
        "\n",
        "import matplotlib.pyplot as plt\n",
        "import seaborn as sns\n",
        "import plotly.express as px\n",
        "\n",
        "import warnings\n",
        "warnings.simplefilter('ignore')"
      ],
      "metadata": {
        "trusted": true,
        "execution": {
          "iopub.status.busy": "2025-03-07T18:21:49.551001Z",
          "iopub.execute_input": "2025-03-07T18:21:49.551496Z",
          "iopub.status.idle": "2025-03-07T18:21:49.556602Z",
          "shell.execute_reply.started": "2025-03-07T18:21:49.551466Z",
          "shell.execute_reply": "2025-03-07T18:21:49.55539Z"
        },
        "id": "lcUniZy_H6Fj"
      },
      "outputs": [],
      "execution_count": null
    },
    {
      "cell_type": "markdown",
      "source": [
        "<h2 style=\"font-size: 2em; color: #007bff; border-bottom: 2px solid #ddd; padding-bottom: 10px; margin-bottom: 20px; font-family: sans-serif;\">READING AND CREATING A DATAFRAME</h2>"
      ],
      "metadata": {
        "id": "srO-sJrzH6Fj"
      }
    },
    {
      "cell_type": "code",
      "source": [
        "def read_csv_files_in_folder(folder_path):\n",
        "    if not os.path.exists(folder_path):\n",
        "        print(f\"Error: Folder '{folder_path}' does not exist.\")\n",
        "        return\n",
        "\n",
        "    for filename in os.listdir(folder_path):\n",
        "        if filename.endswith(\".csv\"):\n",
        "            file_path = os.path.join(folder_path, filename)\n",
        "            df_name = \"df_\" + os.path.splitext(filename)[0]\n",
        "\n",
        "            try:\n",
        "                df = pd.read_csv(file_path)\n",
        "                globals()[df_name] = df\n",
        "                print(f\"Read and created DataFrame: {df_name} from {filename}\")\n",
        "            except Exception as e:\n",
        "                print(f\"Error reading {filename}: {e}\")\n",
        "\n",
        "folder_path = '/kaggle/input/march-machine-learning-mania-2025'\n",
        "read_csv_files_in_folder(folder_path)"
      ],
      "metadata": {
        "trusted": true,
        "execution": {
          "iopub.status.busy": "2025-03-07T17:16:25.904109Z",
          "iopub.execute_input": "2025-03-07T17:16:25.904793Z",
          "iopub.status.idle": "2025-03-07T17:16:31.652587Z",
          "shell.execute_reply.started": "2025-03-07T17:16:25.904728Z",
          "shell.execute_reply": "2025-03-07T17:16:31.651696Z"
        },
        "id": "USwPgYPZH6Fk"
      },
      "outputs": [],
      "execution_count": null
    },
    {
      "cell_type": "markdown",
      "source": [
        "<h2 style=\"font-size: 2em; color: #007bff; border-bottom: 2px solid #ddd; padding-bottom: 10px; margin-bottom: 20px; font-family: sans-serif;\">CHECKING FOR MISSING VALUES</h2>"
      ],
      "metadata": {
        "id": "EmsyAxsjH6Fk"
      }
    },
    {
      "cell_type": "code",
      "source": [
        "def load_all_csv_to_dict(folder_path):\n",
        "    dataframes = {}\n",
        "    if not os.path.exists(folder_path):\n",
        "        print(f\"Error: Folder '{folder_path}' does not exist.\")\n",
        "        return dataframes\n",
        "\n",
        "    for filename in os.listdir(folder_path):\n",
        "        if filename.endswith(\".csv\"):\n",
        "            file_path = os.path.join(folder_path, filename)\n",
        "            df_name = os.path.splitext(filename)[0]\n",
        "\n",
        "            try:\n",
        "                df = pd.read_csv(file_path)\n",
        "                dataframes[df_name] = df\n",
        "                print(f\"Loaded {filename}\")\n",
        "            except Exception as e:\n",
        "                print(f\"Error reading {filename}: {e}\")\n",
        "\n",
        "    return dataframes\n",
        "\n",
        "def check_missing_values(dataframes):\n",
        "    for df_name, df in dataframes.items():\n",
        "        print(f\"\\nDataFrame: {df_name}\")\n",
        "        missing_values = df.isnull().sum()\n",
        "        if missing_values.sum() > 0:\n",
        "            print(\"Missing Values:\")\n",
        "            print(missing_values[missing_values > 0])\n",
        "        else:\n",
        "            print(\"No missing values found.\")\n",
        "\n",
        "folder_path = '/kaggle/input/march-machine-learning-mania-2025'\n",
        "dataframes = load_all_csv_to_dict(folder_path)\n",
        "\n",
        "if dataframes:\n",
        "    check_missing_values(dataframes)"
      ],
      "metadata": {
        "trusted": true,
        "execution": {
          "iopub.status.busy": "2025-03-07T17:16:31.653463Z",
          "iopub.execute_input": "2025-03-07T17:16:31.653779Z",
          "iopub.status.idle": "2025-03-07T17:16:35.793744Z",
          "shell.execute_reply.started": "2025-03-07T17:16:31.653752Z",
          "shell.execute_reply": "2025-03-07T17:16:35.792387Z"
        },
        "id": "pffByhmbH6Fl"
      },
      "outputs": [],
      "execution_count": null
    },
    {
      "cell_type": "code",
      "source": [
        "dfs = {\n",
        "    \"Cities\": df_Cities,\n",
        "    \"Conferences\": df_Conferences,\n",
        "    \"MConferenceTourneyGames\": df_MConferenceTourneyGames,\n",
        "    \"MGameCities\": df_MGameCities,\n",
        "    \"MMasseyOrdinals\": df_MMasseyOrdinals,\n",
        "    \"MNCAATourneyCompactResults\": df_MNCAATourneyCompactResults,\n",
        "    \"MNCAATourneyDetailedResults\": df_MNCAATourneyDetailedResults,\n",
        "    \"MNCAATourneySeedRoundSlots\": df_MNCAATourneySeedRoundSlots,\n",
        "    \"MNCAATourneySeeds\": df_MNCAATourneySeeds,\n",
        "    \"MNCAATourneySlots\": df_MNCAATourneySlots,\n",
        "    \"MRegularSeasonCompactResults\": df_MRegularSeasonCompactResults,\n",
        "    \"MRegularSeasonDetailedResults\": df_MRegularSeasonDetailedResults,\n",
        "    \"MSeasons\": df_MSeasons,\n",
        "    \"MSecondaryTourneyCompactResults\": df_MSecondaryTourneyCompactResults,\n",
        "    \"MSecondaryTourneyTeams\": df_MSecondaryTourneyTeams,\n",
        "    \"MTeamCoaches\": df_MTeamCoaches,\n",
        "    \"MTeamConferences\": df_MTeamConferences,\n",
        "    \"MTeamSpellings\": df_MTeamSpellings,\n",
        "    \"MTeams\": df_MTeams,\n",
        "    \"SampleSubmissionStage1\": df_SampleSubmissionStage1,\n",
        "    \"SampleSubmissionStage2\": df_SampleSubmissionStage2,\n",
        "    \"SeedBenchmarkStage1\": df_SeedBenchmarkStage1,\n",
        "    \"WConferenceTourneyGames\": df_WConferenceTourneyGames,\n",
        "    \"WGameCities\": df_WGameCities,\n",
        "    \"WNCAATourneyCompactResults\": df_WNCAATourneyCompactResults,\n",
        "    \"WNCAATourneyDetailedResults\": df_WNCAATourneyDetailedResults,\n",
        "    \"WNCAATourneySeeds\": df_WNCAATourneySeeds,\n",
        "    \"WNCAATourneySlots\": df_WNCAATourneySlots,\n",
        "    \"WRegularSeasonCompactResults\": df_WRegularSeasonCompactResults,\n",
        "    \"WRegularSeasonDetailedResults\": df_WRegularSeasonDetailedResults,\n",
        "    \"WSeasons\": df_WSeasons,\n",
        "    \"WSecondaryTourneyCompactResults\": df_WSecondaryTourneyCompactResults,\n",
        "    \"WSecondaryTourneyTeams\": df_WSecondaryTourneyTeams,\n",
        "    \"WTeamConferences\": df_WTeamConferences,\n",
        "    \"WTeamSpellings\": df_WTeamSpellings,\n",
        "    \"WTeams\": df_WTeams\n",
        "}"
      ],
      "metadata": {
        "trusted": true,
        "execution": {
          "iopub.status.busy": "2025-03-07T17:16:35.794694Z",
          "iopub.execute_input": "2025-03-07T17:16:35.794985Z",
          "iopub.status.idle": "2025-03-07T17:16:35.801741Z",
          "shell.execute_reply.started": "2025-03-07T17:16:35.794961Z",
          "shell.execute_reply": "2025-03-07T17:16:35.800245Z"
        },
        "id": "gaGU0isNH6Fl"
      },
      "outputs": [],
      "execution_count": null
    },
    {
      "cell_type": "markdown",
      "source": [
        "<h2 style=\"font-size: 2em; color: #007bff; border-bottom: 2px solid #ddd; padding-bottom: 10px; margin-bottom: 20px; font-family: sans-serif;\">SHAPE OF DATA</h2>"
      ],
      "metadata": {
        "id": "zo_2OoV3H6Fl"
      }
    },
    {
      "cell_type": "code",
      "source": [
        "for name, df in dfs.items():\n",
        "    print(f\"\\n{name}: {df.shape} (Rows, Columns)\")"
      ],
      "metadata": {
        "trusted": true,
        "execution": {
          "iopub.status.busy": "2025-03-07T17:16:35.809621Z",
          "iopub.execute_input": "2025-03-07T17:16:35.809969Z",
          "iopub.status.idle": "2025-03-07T17:16:35.841487Z",
          "shell.execute_reply.started": "2025-03-07T17:16:35.80994Z",
          "shell.execute_reply": "2025-03-07T17:16:35.839987Z"
        },
        "id": "OQEIycssH6Fm"
      },
      "outputs": [],
      "execution_count": null
    },
    {
      "cell_type": "markdown",
      "source": [
        "<h2 style=\"font-size: 2em; color: #ff0000; border-bottom: 2px solid #000000; padding-bottom: 10px; margin-bottom: 20px; font-family: sans-serif;\">EDA BEGINS</h2>"
      ],
      "metadata": {
        "id": "n-frhT1gH6Fm"
      }
    },
    {
      "cell_type": "code",
      "source": [
        "df_men = df_MRegularSeasonCompactResults.copy()\n",
        "df_women = df_WRegularSeasonCompactResults.copy()"
      ],
      "metadata": {
        "trusted": true,
        "execution": {
          "iopub.status.busy": "2025-03-07T17:16:35.842894Z",
          "iopub.execute_input": "2025-03-07T17:16:35.843189Z",
          "iopub.status.idle": "2025-03-07T17:16:35.864582Z",
          "shell.execute_reply.started": "2025-03-07T17:16:35.843165Z",
          "shell.execute_reply": "2025-03-07T17:16:35.863441Z"
        },
        "id": "9qzGVfelH6Fm"
      },
      "outputs": [],
      "execution_count": null
    },
    {
      "cell_type": "markdown",
      "source": [
        "## STATS"
      ],
      "metadata": {
        "id": "61mzHPhsH6Fm"
      }
    },
    {
      "cell_type": "code",
      "source": [
        "# Calculating win margins\n",
        "df_men[\"WinMargin\"] = df_men[\"WScore\"] - df_men[\"LScore\"]\n",
        "df_women[\"WinMargin\"] = df_women[\"WScore\"] - df_women[\"LScore\"]\n",
        "\n",
        "print(\"Men's Regular Season Stats:\")\n",
        "display(df_men.describe())\n",
        "\n",
        "print(\"\\nWomen's Regular Season Stats:\")\n",
        "display(df_women.describe())"
      ],
      "metadata": {
        "trusted": true,
        "execution": {
          "iopub.status.busy": "2025-03-07T17:16:35.865702Z",
          "iopub.execute_input": "2025-03-07T17:16:35.866065Z",
          "iopub.status.idle": "2025-03-07T17:16:36.023134Z",
          "shell.execute_reply.started": "2025-03-07T17:16:35.866016Z",
          "shell.execute_reply": "2025-03-07T17:16:36.021889Z"
        },
        "id": "U42FDt6aH6Fm"
      },
      "outputs": [],
      "execution_count": null
    },
    {
      "cell_type": "markdown",
      "source": [
        "<style>\n",
        ".data-summary {\n",
        "  font-family: sans-serif;\n",
        "  line-height: 1.6;\n",
        "  border: 1px solid #ddd;\n",
        "  padding: 20px;\n",
        "  border-radius: 5px;\n",
        "  background-color: #f9f9f9;\n",
        "}\n",
        "\n",
        ".data-summary h2 {\n",
        "  margin-top: 0;\n",
        "  color: #333;\n",
        "}\n",
        "\n",
        ".data-summary ol {\n",
        "  padding-left: 20px;\n",
        "}\n",
        "\n",
        ".data-summary li {\n",
        "  margin-bottom: 15px;\n",
        "}\n",
        "\n",
        ".data-summary strong {\n",
        "  font-weight: bold;\n",
        "}\n",
        "\n",
        ".data-summary p {\n",
        "  margin-top: 5px;\n",
        "  color: #555;\n",
        "}\n",
        "</style>\n",
        "\n",
        "<div class=\"data-summary\">\n",
        "  <h2>Data Summary</h2>\n",
        "  <ol>\n",
        "    <li>\n",
        "      <strong>Season Coverage</strong>\n",
        "      <p>Men's data spans 1985 to 2025 (41 seasons).</p>\n",
        "      <p>Women's data spans 1998 to 2025 (28 seasons).</p>\n",
        "    </li>\n",
        "    <li>\n",
        "      <strong>Scoring Differences</strong>\n",
        "      <p>Men's average winning score: 76.86</p>\n",
        "      <p>Women's average winning score: 71.92</p>\n",
        "      <p>Men's teams tend to score slightly higher on average.</p>\n",
        "    </li>\n",
        "    <li>\n",
        "      <strong>Win Margins</strong>\n",
        "      <p>Men’s average win margin: 12.08 points</p>\n",
        "      <p>Women’s average win margin: 14.39 points</p>\n",
        "      <p>Women’s games show a slightly higher spread in win margins.</p>\n",
        "    </li>\n",
        "    <li>\n",
        "      <strong>Maximum Scores</strong>\n",
        "      <p>Men's highest game score: 186 points</p>\n",
        "      <p>Women's highest game score: 140 points</p>\n",
        "      <p>Women's highest win margin: 108 points (vs. 94 for men)</p>\n",
        "      <p>→ Some very dominant performances in women's games.</p>\n",
        "    </li>\n",
        "    <li>\n",
        "      <strong>Overtime Games</strong>\n",
        "      <p>Men’s games: ~5% had overtime.</p>\n",
        "      <p>Women’s games: ~4% had overtime.</p>\n",
        "      <p>→ Similar distribution of close matches.</p>\n",
        "    </li>\n",
        "  </ol>\n",
        "</div>"
      ],
      "metadata": {
        "id": "AGB99cFsH6Fn"
      }
    },
    {
      "cell_type": "markdown",
      "source": [
        "# Distribution of Win Margins"
      ],
      "metadata": {
        "id": "hVjy2YvbH6Fn"
      }
    },
    {
      "cell_type": "code",
      "source": [
        "fig, axes = plt.subplots(1, 2, figsize=(14, 5), sharey=True)\n",
        "\n",
        "axes[0].hist(df_men[\"WinMargin\"], bins=30, color=\"blue\", alpha=0.7)\n",
        "axes[0].set_title(\"Men's Win Margin Distribution\")\n",
        "axes[0].set_xlabel(\"Win Margin\")\n",
        "axes[0].set_ylabel(\"Frequency\")\n",
        "\n",
        "axes[1].hist(df_women[\"WinMargin\"], bins=30, color=\"red\", alpha=0.7)\n",
        "axes[1].set_title(\"Women's Win Margin Distribution\")\n",
        "axes[1].set_xlabel(\"Win Margin\")\n",
        "\n",
        "plt.tight_layout()\n",
        "plt.show()"
      ],
      "metadata": {
        "trusted": true,
        "execution": {
          "iopub.status.busy": "2025-03-07T17:16:36.024027Z",
          "iopub.execute_input": "2025-03-07T17:16:36.024286Z",
          "iopub.status.idle": "2025-03-07T17:16:36.643708Z",
          "shell.execute_reply.started": "2025-03-07T17:16:36.024265Z",
          "shell.execute_reply": "2025-03-07T17:16:36.642581Z"
        },
        "id": "wKl7ObEgH6Fn"
      },
      "outputs": [],
      "execution_count": null
    },
    {
      "cell_type": "markdown",
      "source": [
        "# Average Win Margins over Season"
      ],
      "metadata": {
        "id": "eavd_QCUH6Fn"
      }
    },
    {
      "cell_type": "code",
      "source": [
        "df_MRegularSeasonCompactResults[\"WinMargin\"] = df_MRegularSeasonCompactResults[\"WScore\"] - df_MRegularSeasonCompactResults[\"LScore\"]\n",
        "df_WRegularSeasonCompactResults[\"WinMargin\"] = df_WRegularSeasonCompactResults[\"WScore\"] - df_WRegularSeasonCompactResults[\"LScore\"]\n",
        "\n",
        "men_seasonal_win_margin = df_MRegularSeasonCompactResults.groupby(\"Season\")[\"WinMargin\"].mean()\n",
        "women_seasonal_win_margin = df_WRegularSeasonCompactResults.groupby(\"Season\")[\"WinMargin\"].mean()\n",
        "\n",
        "plt.figure(figsize=(12, 6))\n",
        "plt.plot(men_seasonal_win_margin.index, men_seasonal_win_margin, label=\"Men's Win Margin\", marker='o')\n",
        "plt.plot(women_seasonal_win_margin.index, women_seasonal_win_margin, label=\"Women's Win Margin\", marker='s')\n",
        "plt.title(\"Average Win Margin Over Seasons\", fontsize=14)\n",
        "plt.xlabel(\"Season\", fontsize=12)\n",
        "plt.ylabel(\"Average Win Margin\", fontsize=12)\n",
        "plt.legend()\n",
        "plt.grid(True)\n",
        "plt.show()\n",
        "\n",
        "fig = px.line(x=men_seasonal_win_margin.index, y=men_seasonal_win_margin, labels={'x': 'Season', 'y': 'Win Margin'},\n",
        "              title=\"Average Win Margin Over Seasons (Men vs Women)\", line_shape='linear')\n",
        "fig.add_scatter(x=women_seasonal_win_margin.index, y=women_seasonal_win_margin, mode='lines', name=\"Women's Win Margin\")\n",
        "fig.show()"
      ],
      "metadata": {
        "trusted": true,
        "execution": {
          "iopub.status.busy": "2025-03-07T17:20:49.302481Z",
          "iopub.execute_input": "2025-03-07T17:20:49.302912Z",
          "iopub.status.idle": "2025-03-07T17:20:49.61958Z",
          "shell.execute_reply.started": "2025-03-07T17:20:49.30288Z",
          "shell.execute_reply": "2025-03-07T17:20:49.61863Z"
        },
        "id": "eq_is68BH6Fo"
      },
      "outputs": [],
      "execution_count": null
    },
    {
      "cell_type": "markdown",
      "source": [
        "# Average Winning Score by Season"
      ],
      "metadata": {
        "id": "VO6szH_yH6Fo"
      }
    },
    {
      "cell_type": "code",
      "source": [
        "fig, ax = plt.subplots(1, 2, figsize=(14, 5), sharey=True)\n",
        "\n",
        "sns.lineplot(x=\"Season\", y=\"WScore\", data=df_men, ax=ax[0], label=\"Men\", color=\"blue\")\n",
        "ax[0].set_title(\"Men's Average Winning Score per Season\")\n",
        "ax[0].set_ylabel(\"Winning Score\")\n",
        "ax[0].set_xlabel(\"Season\")\n",
        "\n",
        "sns.lineplot(x=\"Season\", y=\"WScore\", data=df_women, ax=ax[1], label=\"Women\", color=\"red\")\n",
        "ax[1].set_title(\"Women's Average Winning Score per Season\")\n",
        "ax[1].set_ylabel(\"\")\n",
        "ax[1].set_xlabel(\"Season\")\n",
        "\n",
        "plt.tight_layout()\n",
        "plt.show()"
      ],
      "metadata": {
        "trusted": true,
        "execution": {
          "iopub.status.busy": "2025-03-07T17:20:58.371971Z",
          "iopub.execute_input": "2025-03-07T17:20:58.372351Z",
          "iopub.status.idle": "2025-03-07T17:21:02.906998Z",
          "shell.execute_reply.started": "2025-03-07T17:20:58.372319Z",
          "shell.execute_reply": "2025-03-07T17:21:02.905763Z"
        },
        "id": "Xpi-U8tDH6Fo"
      },
      "outputs": [],
      "execution_count": null
    },
    {
      "cell_type": "markdown",
      "source": [
        "# Home Win Percentage for Men"
      ],
      "metadata": {
        "id": "9O4otPKHH6Fo"
      }
    },
    {
      "cell_type": "code",
      "source": [
        "home_wins_men = df_MRegularSeasonCompactResults[df_MRegularSeasonCompactResults[\"WLoc\"] == \"H\"].shape[0]\n",
        "away_wins_men = df_MRegularSeasonCompactResults[df_MRegularSeasonCompactResults[\"WLoc\"] == \"A\"].shape[0]\n",
        "neutral_games_men = df_MRegularSeasonCompactResults[df_MRegularSeasonCompactResults[\"WLoc\"] == \"N\"].shape[0]\n",
        "\n",
        "home_win_rate_men = home_wins_men / (home_wins_men + away_wins_men) * 100\n",
        "\n",
        "print(f\"🏀 Men's Home Win Rate: {home_win_rate_men:.2f}%\")"
      ],
      "metadata": {
        "trusted": true,
        "execution": {
          "iopub.status.busy": "2025-03-07T17:21:02.908284Z",
          "iopub.execute_input": "2025-03-07T17:21:02.908597Z",
          "iopub.status.idle": "2025-03-07T17:21:02.974866Z",
          "shell.execute_reply.started": "2025-03-07T17:21:02.90857Z",
          "shell.execute_reply": "2025-03-07T17:21:02.973748Z"
        },
        "id": "b48UX_D5H6Fo"
      },
      "outputs": [],
      "execution_count": null
    },
    {
      "cell_type": "markdown",
      "source": [
        "# Home Win Percentage for Women"
      ],
      "metadata": {
        "id": "VGpCFkbeH6Fo"
      }
    },
    {
      "cell_type": "code",
      "source": [
        "home_wins_women = df_WRegularSeasonCompactResults[df_WRegularSeasonCompactResults[\"WLoc\"] == \"H\"].shape[0]\n",
        "away_wins_women = df_WRegularSeasonCompactResults[df_WRegularSeasonCompactResults[\"WLoc\"] == \"A\"].shape[0]\n",
        "neutral_games_women = df_WRegularSeasonCompactResults[df_WRegularSeasonCompactResults[\"WLoc\"] == \"N\"].shape[0]\n",
        "\n",
        "home_win_rate_women = home_wins_women / (home_wins_women + away_wins_women) * 100\n",
        "\n",
        "print(f\"🏀 Women's Home Win Rate: {home_win_rate_women:.2f}%\")"
      ],
      "metadata": {
        "trusted": true,
        "execution": {
          "iopub.status.busy": "2025-03-07T17:21:02.976878Z",
          "iopub.execute_input": "2025-03-07T17:21:02.97722Z",
          "iopub.status.idle": "2025-03-07T17:21:03.026529Z",
          "shell.execute_reply.started": "2025-03-07T17:21:02.977179Z",
          "shell.execute_reply": "2025-03-07T17:21:03.025528Z"
        },
        "id": "3qDQEzBgH6Fo"
      },
      "outputs": [],
      "execution_count": null
    },
    {
      "cell_type": "markdown",
      "source": [
        "# Home VS Away Marings of Win"
      ],
      "metadata": {
        "id": "qskp5jSyH6Fo"
      }
    },
    {
      "cell_type": "code",
      "source": [
        "# Win Margin for Men & Women\n",
        "df_MRegularSeasonCompactResults[\"WinMargin\"] = df_MRegularSeasonCompactResults[\"WScore\"] - df_MRegularSeasonCompactResults[\"LScore\"]\n",
        "df_WRegularSeasonCompactResults[\"WinMargin\"] = df_WRegularSeasonCompactResults[\"WScore\"] - df_WRegularSeasonCompactResults[\"LScore\"]\n",
        "\n",
        "df_men_home = df_MRegularSeasonCompactResults[df_MRegularSeasonCompactResults[\"WLoc\"] == \"H\"]\n",
        "df_men_away = df_MRegularSeasonCompactResults[df_MRegularSeasonCompactResults[\"WLoc\"] == \"A\"]\n",
        "\n",
        "df_women_home = df_WRegularSeasonCompactResults[df_WRegularSeasonCompactResults[\"WLoc\"] == \"H\"]\n",
        "df_women_away = df_WRegularSeasonCompactResults[df_WRegularSeasonCompactResults[\"WLoc\"] == \"A\"]\n",
        "\n",
        "df_home_away = pd.DataFrame({\n",
        "    \"Category\": [\"Men - Home\", \"Men - Away\", \"Women - Home\", \"Women - Away\"],\n",
        "    \"Win Margin\": [\n",
        "        df_men_home[\"WinMargin\"].mean(), df_men_away[\"WinMargin\"].mean(),\n",
        "        df_women_home[\"WinMargin\"].mean(), df_women_away[\"WinMargin\"].mean()\n",
        "    ]\n",
        "})\n",
        "\n",
        "plt.figure(figsize=(8, 5))\n",
        "sns.barplot(x=\"Category\", y=\"Win Margin\", data=df_home_away, palette=[\"blue\", \"blue\", \"red\", \"red\"])\n",
        "plt.title(\"Home vs. Away Win Margins\")\n",
        "plt.ylabel(\"Average Win Margin\")\n",
        "plt.xlabel(\"\")\n",
        "plt.xticks(rotation=15)\n",
        "plt.show()"
      ],
      "metadata": {
        "trusted": true,
        "execution": {
          "iopub.status.busy": "2025-03-07T17:21:03.028145Z",
          "iopub.execute_input": "2025-03-07T17:21:03.028542Z",
          "iopub.status.idle": "2025-03-07T17:21:03.322204Z",
          "shell.execute_reply.started": "2025-03-07T17:21:03.028511Z",
          "shell.execute_reply": "2025-03-07T17:21:03.321112Z"
        },
        "id": "B6GFhq-MH6Fo"
      },
      "outputs": [],
      "execution_count": null
    },
    {
      "cell_type": "markdown",
      "source": [
        "# Win Margins in NCAA Tournaments"
      ],
      "metadata": {
        "id": "umCvdIW6H6Fo"
      }
    },
    {
      "cell_type": "code",
      "source": [
        "df_men_tourney = df_MNCAATourneyCompactResults.copy()\n",
        "df_women_tourney = df_WNCAATourneyCompactResults.copy()\n",
        "\n",
        "# Win Margin for Mens & Womens Tournament Games\n",
        "df_men_tourney[\"WinMargin\"] = df_men_tourney[\"WScore\"] - df_men_tourney[\"LScore\"]\n",
        "df_women_tourney[\"WinMargin\"] = df_women_tourney[\"WScore\"] - df_women_tourney[\"LScore\"]\n",
        "\n",
        "# Grouping by Season to get the average Win Margin\n",
        "men_win_margin_season = df_men_tourney.groupby(\"Season\")[\"WinMargin\"].mean()\n",
        "women_win_margin_season = df_women_tourney.groupby(\"Season\")[\"WinMargin\"].mean()\n",
        "\n",
        "plt.figure(figsize=(12, 6))\n",
        "sns.lineplot(x=men_win_margin_season.index, y=men_win_margin_season.values, label=\"Men's Tournament\", marker=\"o\")\n",
        "sns.lineplot(x=women_win_margin_season.index, y=women_win_margin_season.values, label=\"Women's Tournament\", marker=\"o\", linestyle=\"dashed\")\n",
        "\n",
        "plt.xlabel(\"Season\", fontsize=12)\n",
        "plt.ylabel(\"Average Win Margin\", fontsize=12)\n",
        "plt.title(\"Trend of Win Margins in NCAA Tournaments\", fontsize=14)\n",
        "plt.legend()\n",
        "plt.grid(True)\n",
        "plt.show()"
      ],
      "metadata": {
        "trusted": true,
        "execution": {
          "iopub.status.busy": "2025-03-07T17:21:03.323276Z",
          "iopub.execute_input": "2025-03-07T17:21:03.323686Z",
          "iopub.status.idle": "2025-03-07T17:21:03.693179Z",
          "shell.execute_reply.started": "2025-03-07T17:21:03.323622Z",
          "shell.execute_reply": "2025-03-07T17:21:03.691945Z"
        },
        "id": "esGP48OzH6Fp"
      },
      "outputs": [],
      "execution_count": null
    },
    {
      "cell_type": "markdown",
      "source": [
        "# Seed Computing"
      ],
      "metadata": {
        "id": "m0T-CwkAH6Fp"
      }
    },
    {
      "cell_type": "code",
      "source": [
        "# Extracting numeric seed values for Men\n",
        "df_MNCAATourneySeeds[\"SeedValue\"] = df_MNCAATourneySeeds[\"Seed\"].str.extract('(\\d+)').astype(int)\n",
        "\n",
        "# Extracting numeric seed values for Women\n",
        "df_WNCAATourneySeeds[\"SeedValue\"] = df_WNCAATourneySeeds[\"Seed\"].str.extract('(\\d+)').astype(int)"
      ],
      "metadata": {
        "trusted": true,
        "execution": {
          "iopub.status.busy": "2025-03-07T17:21:03.694368Z",
          "iopub.execute_input": "2025-03-07T17:21:03.694857Z",
          "iopub.status.idle": "2025-03-07T17:21:03.711574Z",
          "shell.execute_reply.started": "2025-03-07T17:21:03.694807Z",
          "shell.execute_reply": "2025-03-07T17:21:03.71038Z"
        },
        "id": "QUD-gA_XH6Fp"
      },
      "outputs": [],
      "execution_count": null
    },
    {
      "cell_type": "code",
      "source": [
        "# Here merging Mens Tournament Results with Seeds\n",
        "df_men_tourney = df_MNCAATourneyCompactResults.merge(\n",
        "    df_MNCAATourneySeeds[[\"Season\", \"TeamID\", \"SeedValue\"]],\n",
        "    left_on=[\"Season\", \"WTeamID\"],\n",
        "    right_on=[\"Season\", \"TeamID\"],\n",
        "    how=\"left\"\n",
        ").rename(columns={\"SeedValue\": \"WSeed\"}).drop(columns=[\"TeamID\"])\n",
        "\n",
        "df_men_tourney = df_men_tourney.merge(\n",
        "    df_MNCAATourneySeeds[[\"Season\", \"TeamID\", \"SeedValue\"]],\n",
        "    left_on=[\"Season\", \"LTeamID\"],\n",
        "    right_on=[\"Season\", \"TeamID\"],\n",
        "    how=\"left\"\n",
        ").rename(columns={\"SeedValue\": \"LSeed\"}).drop(columns=[\"TeamID\"])\n",
        "\n",
        "df_men_tourney[\"WinMargin\"] = df_men_tourney[\"WScore\"] - df_men_tourney[\"LScore\"]\n",
        "\n",
        "# Mergeing Womens Tournament Results with Seeds\n",
        "df_women_tourney = df_WNCAATourneyCompactResults.merge(\n",
        "    df_WNCAATourneySeeds[[\"Season\", \"TeamID\", \"SeedValue\"]],\n",
        "    left_on=[\"Season\", \"WTeamID\"],\n",
        "    right_on=[\"Season\", \"TeamID\"],\n",
        "    how=\"left\"\n",
        ").rename(columns={\"SeedValue\": \"WSeed\"}).drop(columns=[\"TeamID\"])\n",
        "\n",
        "df_women_tourney = df_women_tourney.merge(\n",
        "    df_WNCAATourneySeeds[[\"Season\", \"TeamID\", \"SeedValue\"]],\n",
        "    left_on=[\"Season\", \"LTeamID\"],\n",
        "    right_on=[\"Season\", \"TeamID\"],\n",
        "    how=\"left\"\n",
        ").rename(columns={\"SeedValue\": \"LSeed\"}).drop(columns=[\"TeamID\"])\n",
        "\n",
        "df_women_tourney[\"WinMargin\"] = df_women_tourney[\"WScore\"] - df_women_tourney[\"LScore\"]\n",
        "\n",
        "display(df_men_tourney.head(), df_women_tourney.head(3))"
      ],
      "metadata": {
        "trusted": true,
        "execution": {
          "iopub.status.busy": "2025-03-07T17:50:56.402165Z",
          "iopub.execute_input": "2025-03-07T17:50:56.402582Z",
          "iopub.status.idle": "2025-03-07T17:50:56.448487Z",
          "shell.execute_reply.started": "2025-03-07T17:50:56.40254Z",
          "shell.execute_reply": "2025-03-07T17:50:56.447523Z"
        },
        "id": "oBAJyob6H6Fp"
      },
      "outputs": [],
      "execution_count": null
    },
    {
      "cell_type": "code",
      "source": [
        "df_men_tourney[\"WSeed\"] = df_men_tourney[\"WSeed\"].astype(str).str.extract(\"(\\d+)\").astype(float)\n",
        "df_men_tourney[\"LSeed\"] = df_men_tourney[\"LSeed\"].astype(str).str.extract(\"(\\d+)\").astype(float)\n",
        "df_men_tourney[\"Seed_Diff\"] = df_men_tourney[\"LSeed\"] - df_men_tourney[\"WSeed\"]\n",
        "\n",
        "df_women_tourney[\"WSeed\"] = df_women_tourney[\"WSeed\"].astype(str).str.extract(\"(\\d+)\").astype(float)\n",
        "df_women_tourney[\"LSeed\"] = df_women_tourney[\"LSeed\"].astype(str).str.extract(\"(\\d+)\").astype(float)\n",
        "df_women_tourney[\"Seed_Diff\"] = df_women_tourney[\"LSeed\"] - df_women_tourney[\"WSeed\"]"
      ],
      "metadata": {
        "trusted": true,
        "execution": {
          "iopub.status.busy": "2025-03-07T17:24:24.502384Z",
          "iopub.execute_input": "2025-03-07T17:24:24.502818Z",
          "iopub.status.idle": "2025-03-07T17:24:24.531662Z",
          "shell.execute_reply.started": "2025-03-07T17:24:24.502783Z",
          "shell.execute_reply": "2025-03-07T17:24:24.529806Z"
        },
        "id": "vkKCtuusH6Fp"
      },
      "outputs": [],
      "execution_count": null
    },
    {
      "cell_type": "markdown",
      "source": [
        "## Mens and Women Seed Difference VS Win Margin"
      ],
      "metadata": {
        "id": "vi5ggecGH6Fp"
      }
    },
    {
      "cell_type": "code",
      "source": [
        "plt.figure(figsize=(14, 6))\n",
        "\n",
        "# Men's Tournament\n",
        "plt.subplot(1, 2, 1)\n",
        "sns.scatterplot(x=df_men_tourney[\"Seed_Diff\"], y=df_men_tourney[\"WinMargin\"], alpha=0.5)\n",
        "sns.regplot(x=df_men_tourney[\"Seed_Diff\"], y=df_men_tourney[\"WinMargin\"], scatter=False, color=\"red\")\n",
        "plt.axhline(0, color=\"black\", linestyle=\"dashed\", alpha=0.7)\n",
        "plt.xlabel(\"Seed Difference (LSeed - WSeed)\")\n",
        "plt.ylabel(\"Win Margin\")\n",
        "plt.title(\"Men's Tournament: Seed Difference vs. Win Margin\")\n",
        "plt.grid(True)\n",
        "\n",
        "# Women's Tournament\n",
        "plt.subplot(1, 2, 2)\n",
        "sns.scatterplot(x=df_women_tourney[\"Seed_Diff\"], y=df_women_tourney[\"WinMargin\"], alpha=0.5)\n",
        "sns.regplot(x=df_women_tourney[\"Seed_Diff\"], y=df_women_tourney[\"WinMargin\"], scatter=False, color=\"red\")\n",
        "plt.axhline(0, color=\"black\", linestyle=\"dashed\", alpha=0.7)\n",
        "plt.xlabel(\"Seed Difference (LSeed - WSeed)\")\n",
        "plt.ylabel(\"Win Margin\")\n",
        "plt.title(\"Women's Tournament: Seed Difference vs. Win Margin\")\n",
        "plt.grid(True)\n",
        "\n",
        "plt.tight_layout()\n",
        "plt.show()"
      ],
      "metadata": {
        "trusted": true,
        "execution": {
          "iopub.status.busy": "2025-03-07T17:24:29.93369Z",
          "iopub.execute_input": "2025-03-07T17:24:29.934019Z",
          "iopub.status.idle": "2025-03-07T17:24:30.824803Z",
          "shell.execute_reply.started": "2025-03-07T17:24:29.933994Z",
          "shell.execute_reply": "2025-03-07T17:24:30.823737Z"
        },
        "id": "PxCQdss7H6Fp"
      },
      "outputs": [],
      "execution_count": null
    },
    {
      "cell_type": "markdown",
      "source": [
        "### Insights: Seed Difference vs. Win Margin in NCAA Tournaments with Trendlines:👆\n",
        "\n",
        "**Strong Positive Correlation Confirmed:**\n",
        "\n",
        "* **Trendline Visualization:** The addition of trendlines clearly illustrates the strong positive correlation between seed difference and win margin in both men's and women's tournaments.\n",
        "* **Higher Seed Advantage:** As the seed difference increases (higher seeds playing lower seeds), the trendlines show a consistent increase in win margin, reinforcing the advantage of higher-seeded teams.\n",
        "\n",
        "**Observations Across Tournaments:**\n",
        "\n",
        "* **Similar Trendline Slopes:** The trendlines for both men's and women's tournaments have similar slopes, suggesting a consistent relationship between seed difference and win margin across genders.\n",
        "* **Spread Around Trendlines:**\n",
        "    * **Men's:** The men's data points are more tightly clustered around the trendline, indicating a slightly stronger correlation compared to the women's tournament.\n",
        "    * **Women's:** The women's data points show a wider spread, suggesting that other factors might have a more significant impact on win margins in the women's tournament.\n",
        "* **Negative Seed Differences:**\n",
        "    * **Close Upsets:** For negative seed differences (lower seeds winning), the trendlines are close to the zero win margin line, confirming that upsets tend to be close games.\n",
        "* **Positive Seed Differences:**\n",
        "    * **Varied Margins:** For positive seed differences (higher seeds winning), the trendlines show increasing win margins, but the spread of data points indicates that the actual margins can vary widely."
      ],
      "metadata": {
        "id": "PX1uOfYcH6Fp"
      }
    },
    {
      "cell_type": "markdown",
      "source": [
        "# Seed Difference VS Win Margin in NCAA Tournaments"
      ],
      "metadata": {
        "id": "q47py8kAH6Fp"
      }
    },
    {
      "cell_type": "code",
      "source": [
        "plt.figure(figsize=(12, 6))\n",
        "\n",
        "# Men's Tournament\n",
        "sns.scatterplot(x=df_men_tourney[\"Seed_Diff\"], y=df_men_tourney[\"WinMargin\"], alpha=0.6, label=\"Men's Tournament\", color=\"blue\")\n",
        "\n",
        "# Women's Tournament\n",
        "sns.scatterplot(x=df_women_tourney[\"Seed_Diff\"], y=df_women_tourney[\"WinMargin\"], alpha=0.6, label=\"Women's Tournament\", color=\"red\")\n",
        "\n",
        "plt.axvline(x=0, color=\"gray\", linestyle=\"--\", linewidth=1)  # Reference line at Seed Difference = 0\n",
        "plt.xlabel(\"Seed Difference (Lower Seed - Higher Seed)\", fontsize=12)\n",
        "plt.ylabel(\"Win Margin\", fontsize=12)\n",
        "plt.title(\"Seed Difference vs. Win Margin in NCAA Tournaments\", fontsize=14)\n",
        "plt.legend()\n",
        "plt.grid(True)\n",
        "plt.show()"
      ],
      "metadata": {
        "trusted": true,
        "execution": {
          "iopub.status.busy": "2025-03-07T17:24:38.945559Z",
          "iopub.execute_input": "2025-03-07T17:24:38.945931Z",
          "iopub.status.idle": "2025-03-07T17:24:39.300595Z",
          "shell.execute_reply.started": "2025-03-07T17:24:38.945901Z",
          "shell.execute_reply": "2025-03-07T17:24:39.299476Z"
        },
        "id": "imyu00HuH6Ft"
      },
      "outputs": [],
      "execution_count": null
    },
    {
      "cell_type": "markdown",
      "source": [
        "### Insights: Seed Difference vs. Win Margin in NCAA Tournaments👆\n",
        "\n",
        "**General Trend: Higher Seed Advantage**\n",
        "\n",
        "* **Positive Correlation:** Both men's and women's tournaments show a clear positive correlation between seed difference (lower seed minus higher seed) and win margin. This means that as the seed difference increases (higher seeds playing lower seeds), the win margin tends to increase.\n",
        "* **Dominance of Higher Seeds:** Higher-seeded teams generally win by larger margins, reinforcing the idea that seeding is a good indicator of team strength.\n",
        "\n",
        "**Observations Across Tournaments**\n",
        "\n",
        "* **Similar Patterns:** The overall patterns are quite similar for both men's and women's tournaments. This suggests that the relationship between seed difference and win margin is consistent across genders.\n",
        "* **Spread of Data:**\n",
        "    * For negative seed differences (lower seeds beating higher seeds), the win margins are generally smaller and more tightly clustered near the bottom of the graph, showing that upsets tend to be close games.\n",
        "    * For positive seed differences (higher seeds beating lower seeds), the win margins are more widely spread, indicating that higher seeds can win by a wide variety of margins."
      ],
      "metadata": {
        "id": "3tKD66-xH6Ft"
      }
    },
    {
      "cell_type": "markdown",
      "source": [
        "# Pearson correlation coefficient"
      ],
      "metadata": {
        "id": "jtacWqT9H6Ft"
      }
    },
    {
      "cell_type": "code",
      "source": [
        "corr_men = df_men_tourney[\"Seed_Diff\"].corr(df_men_tourney[\"WinMargin\"])\n",
        "corr_women = df_women_tourney[\"Seed_Diff\"].corr(df_women_tourney[\"WinMargin\"])\n",
        "\n",
        "print(f\"📌 Pearson Correlation (Men's Tournament): {corr_men:.4f}\")\n",
        "print(f\"📌 Pearson Correlation (Women's Tournament): {corr_women:.4f}\")"
      ],
      "metadata": {
        "trusted": true,
        "execution": {
          "iopub.status.busy": "2025-03-07T17:24:39.301945Z",
          "iopub.execute_input": "2025-03-07T17:24:39.302247Z",
          "iopub.status.idle": "2025-03-07T17:24:39.311756Z",
          "shell.execute_reply.started": "2025-03-07T17:24:39.302219Z",
          "shell.execute_reply": "2025-03-07T17:24:39.310755Z"
        },
        "id": "yWg00fKNH6Ft"
      },
      "outputs": [],
      "execution_count": null
    },
    {
      "cell_type": "markdown",
      "source": [
        "# Most Successfull Teams in NCAA Tournament"
      ],
      "metadata": {
        "id": "F6uo6YONH6Fu"
      }
    },
    {
      "cell_type": "code",
      "source": [
        "men_team_wins = df_MNCAATourneyCompactResults[\"WTeamID\"].value_counts().reset_index()\n",
        "men_team_wins.columns = [\"TeamID\", \"Total Wins\"]\n",
        "\n",
        "women_team_wins = df_WNCAATourneyCompactResults[\"WTeamID\"].value_counts().reset_index()\n",
        "women_team_wins.columns = [\"TeamID\", \"Total Wins\"]\n",
        "\n",
        "men_team_wins = men_team_wins.merge(df_MTeams, on=\"TeamID\", how=\"left\")\n",
        "women_team_wins = women_team_wins.merge(df_WTeams, on=\"TeamID\", how=\"left\")\n",
        "\n",
        "# Sorting by most wins\n",
        "top_men_teams = men_team_wins.sort_values(by=\"Total Wins\", ascending=False).head(10)\n",
        "top_women_teams = women_team_wins.sort_values(by=\"Total Wins\", ascending=False).head(10)\n",
        "\n",
        "display(top_men_teams)\n",
        "display(top_women_teams)"
      ],
      "metadata": {
        "trusted": true,
        "execution": {
          "iopub.status.busy": "2025-03-07T17:24:39.313801Z",
          "iopub.execute_input": "2025-03-07T17:24:39.314108Z",
          "iopub.status.idle": "2025-03-07T17:24:39.355019Z",
          "shell.execute_reply.started": "2025-03-07T17:24:39.314083Z",
          "shell.execute_reply": "2025-03-07T17:24:39.354098Z"
        },
        "id": "-SZUA2-RH6Fu"
      },
      "outputs": [],
      "execution_count": null
    },
    {
      "cell_type": "markdown",
      "source": [
        "## Mens VS Womens"
      ],
      "metadata": {
        "id": "V_AW193qH6Fu"
      }
    },
    {
      "cell_type": "code",
      "source": [
        "plt.figure(figsize=(14, 6))\n",
        "\n",
        "# Men's Top Teams\n",
        "plt.subplot(1, 2, 1)\n",
        "sns.barplot(y=top_men_teams[\"TeamName\"], x=top_men_teams[\"Total Wins\"], palette=\"Blues_r\")\n",
        "plt.xlabel(\"Total NCAA Tournament Wins\")\n",
        "plt.ylabel(\"Team\")\n",
        "plt.title(\"Top 10 Most Successful Men's Teams\")\n",
        "\n",
        "# Women's Top Teams\n",
        "plt.subplot(1, 2, 2)\n",
        "sns.barplot(y=top_women_teams[\"TeamName\"], x=top_women_teams[\"Total Wins\"], palette=\"Purples_r\")\n",
        "plt.xlabel(\"Total NCAA Tournament Wins\")\n",
        "plt.ylabel(\"Team\")\n",
        "plt.title(\"Top 10 Most Successful Women's Teams\")\n",
        "\n",
        "plt.tight_layout()\n",
        "plt.show()"
      ],
      "metadata": {
        "trusted": true,
        "execution": {
          "iopub.status.busy": "2025-03-07T17:24:39.356176Z",
          "iopub.execute_input": "2025-03-07T17:24:39.356523Z",
          "iopub.status.idle": "2025-03-07T17:24:39.847416Z",
          "shell.execute_reply.started": "2025-03-07T17:24:39.356497Z",
          "shell.execute_reply": "2025-03-07T17:24:39.846002Z"
        },
        "id": "IdNPuTfxH6Fu"
      },
      "outputs": [],
      "execution_count": null
    },
    {
      "cell_type": "markdown",
      "source": [
        "# Dominant Teams per Decade"
      ],
      "metadata": {
        "id": "UIW66mh0H6Fu"
      }
    },
    {
      "cell_type": "code",
      "source": [
        "# Categorizing seasons into decades\n",
        "def get_decade(year):\n",
        "    return f\"{(year // 10) * 10}s\"  # Lets say for example: 1985  into 1980s\n",
        "\n",
        "df_MNCAATourneyCompactResults[\"Decade\"] = df_MNCAATourneyCompactResults[\"Season\"].apply(get_decade)\n",
        "df_WNCAATourneyCompactResults[\"Decade\"] = df_WNCAATourneyCompactResults[\"Season\"].apply(get_decade)\n",
        "\n",
        "men_decade_wins = df_MNCAATourneyCompactResults.groupby([\"Decade\", \"WTeamID\"]).size().reset_index(name=\"Total Wins\")\n",
        "women_decade_wins = df_WNCAATourneyCompactResults.groupby([\"Decade\", \"WTeamID\"]).size().reset_index(name=\"Total Wins\")\n",
        "\n",
        "men_decade_wins = men_decade_wins.merge(df_MTeams, left_on=\"WTeamID\", right_on=\"TeamID\", how=\"left\")\n",
        "women_decade_wins = women_decade_wins.merge(df_WTeams, left_on=\"WTeamID\", right_on=\"TeamID\", how=\"left\")"
      ],
      "metadata": {
        "trusted": true,
        "execution": {
          "iopub.status.busy": "2025-03-07T17:24:39.848202Z",
          "iopub.execute_input": "2025-03-07T17:24:39.848484Z",
          "iopub.status.idle": "2025-03-07T17:24:39.871711Z",
          "shell.execute_reply.started": "2025-03-07T17:24:39.84846Z",
          "shell.execute_reply": "2025-03-07T17:24:39.870346Z"
        },
        "id": "mOnJrKWAH6Fu"
      },
      "outputs": [],
      "execution_count": null
    },
    {
      "cell_type": "code",
      "source": [
        "top_men_teams_decade = men_decade_wins.sort_values(by=[\"Decade\", \"Total Wins\"], ascending=[True, False]).groupby(\"Decade\").head(5)\n",
        "top_women_teams_decade = women_decade_wins.sort_values(by=[\"Decade\", \"Total Wins\"], ascending=[True, False]).groupby(\"Decade\").head(5)\n",
        "\n",
        "display(top_men_teams_decade)\n",
        "display(top_women_teams_decade)"
      ],
      "metadata": {
        "trusted": true,
        "execution": {
          "iopub.status.busy": "2025-03-07T17:24:39.873454Z",
          "iopub.execute_input": "2025-03-07T17:24:39.873857Z",
          "iopub.status.idle": "2025-03-07T17:24:39.903827Z",
          "shell.execute_reply.started": "2025-03-07T17:24:39.873824Z",
          "shell.execute_reply": "2025-03-07T17:24:39.902768Z"
        },
        "id": "zxjT8SEuH6Fu"
      },
      "outputs": [],
      "execution_count": null
    },
    {
      "cell_type": "markdown",
      "source": [
        "## Mens Vs Womens"
      ],
      "metadata": {
        "id": "E-L4e6H2H6Fu"
      }
    },
    {
      "cell_type": "code",
      "source": [
        "plt.figure(figsize=(16, 8))\n",
        "\n",
        "# Men's Plot\n",
        "plt.subplot(1, 2, 1)\n",
        "sns.barplot(data=top_men_teams_decade, x=\"Decade\", y=\"Total Wins\", hue=\"TeamName\", palette=\"Blues_r\")\n",
        "plt.xlabel(\"Decade\")\n",
        "plt.ylabel(\"Total Wins\")\n",
        "plt.title(\"Top 5 Most Dominant Men's Teams per Decade\")\n",
        "plt.xticks(rotation=45)\n",
        "plt.legend(title=\"Team\", bbox_to_anchor=(1, 1))\n",
        "\n",
        "# Women's Plot\n",
        "plt.subplot(1, 2, 2)\n",
        "sns.barplot(data=top_women_teams_decade, x=\"Decade\", y=\"Total Wins\", hue=\"TeamName\", palette=\"Purples_r\")\n",
        "plt.xlabel(\"Decade\")\n",
        "plt.ylabel(\"Total Wins\")\n",
        "plt.title(\"Top 5 Most Dominant Women's Teams per Decade\")\n",
        "plt.xticks(rotation=45)\n",
        "plt.legend(title=\"Team\", bbox_to_anchor=(1, 1))\n",
        "\n",
        "plt.tight_layout()\n",
        "plt.show()"
      ],
      "metadata": {
        "trusted": true,
        "execution": {
          "iopub.status.busy": "2025-03-07T17:24:39.904799Z",
          "iopub.execute_input": "2025-03-07T17:24:39.905087Z",
          "iopub.status.idle": "2025-03-07T17:24:40.988925Z",
          "shell.execute_reply.started": "2025-03-07T17:24:39.905063Z",
          "shell.execute_reply": "2025-03-07T17:24:40.987863Z"
        },
        "id": "TXqx50SvH6Fu"
      },
      "outputs": [],
      "execution_count": null
    },
    {
      "cell_type": "markdown",
      "source": [
        "### Insights from Top 5 Most Dominant Teams per Decade Analysis 👆\n",
        "\n",
        "**Men's Tournament: Shifting Dominance and Varied Success:**\n",
        "\n",
        "* **Decade-Specific Leaders:** The dominant teams vary significantly across decades, indicating a dynamic landscape in men's college basketball.\n",
        "* **Consistency vs. Emergence:** Some teams (e.g., Duke, Kansas) show consistent dominance across multiple decades, while others (e.g., Gonzaga, Houston) have emerged as top contenders more recently.\n",
        "* **Win Variation:** The total wins achieved by the top teams fluctuate, suggesting varying levels of overall strength and competition within each decade.\n",
        "* **Recent Trends:** The 2010s and 2020s show a wider spread of dominant teams, possibly indicating increased parity.\n",
        "\n",
        "**Women's Tournament: Long-Term Dominance and Emerging Powers:**\n",
        "\n",
        "* **Long-Standing Powerhouses:** Teams like Louisiana Tech, Tennessee, and Connecticut have established a legacy of dominance, particularly in the earlier decades.\n",
        "* **Era of Connecticut:** Connecticut's sustained high win totals across multiple decades highlight their exceptional program strength.\n",
        "* **Rise of New Contenders:** While established teams remain strong, newer contenders like Baylor, Louisville, and South Carolina have emerged as top programs in recent decades.\n",
        "* **High Win Totals:** The women's chart generally displays higher total wins compared to the men's, suggesting potentially greater consistency and dominance within the top programs.\n",
        "* **Iowa's Recent Emergence:** Iowa's appearance in the 2020s demonstrates the ever changing landscape of womens basketball."
      ],
      "metadata": {
        "id": "9XKwOMEIH6Fv"
      }
    },
    {
      "cell_type": "markdown",
      "source": [
        "# Cinderella Runs, Who is the Underdog??👀"
      ],
      "metadata": {
        "id": "yT6-f0xDH6Fv"
      }
    },
    {
      "cell_type": "code",
      "source": [
        "df_men_cinderella = df_MNCAATourneyCompactResults.merge(df_MNCAATourneySeeds, left_on=[\"Season\", \"WTeamID\"], right_on=[\"Season\", \"TeamID\"], how=\"left\")\n",
        "df_women_cinderella = df_WNCAATourneyCompactResults.merge(df_WNCAATourneySeeds, left_on=[\"Season\", \"WTeamID\"], right_on=[\"Season\", \"TeamID\"], how=\"left\")\n",
        "\n",
        "df_men_cinderella[\"Seed\"] = df_men_cinderella[\"Seed\"].str.extract(\"(\\d+)\").astype(float)\n",
        "df_women_cinderella[\"Seed\"] = df_women_cinderella[\"Seed\"].str.extract(\"(\\d+)\").astype(float)\n",
        "\n",
        "men_wins = df_men_cinderella.groupby([\"Season\", \"WTeamID\", \"Seed\"]).size().reset_index(name=\"Wins\")\n",
        "women_wins = df_women_cinderella.groupby([\"Season\", \"WTeamID\", \"Seed\"]).size().reset_index(name=\"Wins\")\n",
        "\n",
        "# Cinderella Teams means basically a (low-seeded teams with multiple wins)\n",
        "cinderella_men = men_wins[(men_wins[\"Seed\"] >= 10) & (men_wins[\"Wins\"] >= 3)]\n",
        "cinderella_women = women_wins[(women_wins[\"Seed\"] >= 10) & (women_wins[\"Wins\"] >= 3)]\n",
        "\n",
        "cinderella_men = cinderella_men.merge(df_MTeams, left_on=\"WTeamID\", right_on=\"TeamID\", how=\"left\")\n",
        "cinderella_women = cinderella_women.merge(df_WTeams, left_on=\"WTeamID\", right_on=\"TeamID\", how=\"left\")\n",
        "\n",
        "display(cinderella_men)\n",
        "display(cinderella_women)"
      ],
      "metadata": {
        "trusted": true,
        "execution": {
          "iopub.status.busy": "2025-03-07T17:24:40.991163Z",
          "iopub.execute_input": "2025-03-07T17:24:40.991531Z",
          "iopub.status.idle": "2025-03-07T17:24:41.03969Z",
          "shell.execute_reply.started": "2025-03-07T17:24:40.991491Z",
          "shell.execute_reply": "2025-03-07T17:24:41.038598Z"
        },
        "id": "g1OLNioTH6Fv"
      },
      "outputs": [],
      "execution_count": null
    },
    {
      "cell_type": "code",
      "source": [
        "plt.figure(figsize=(16, 8))\n",
        "\n",
        "# Men's Cinderella Plot\n",
        "plt.subplot(1, 2, 1)\n",
        "sns.barplot(data=cinderella_men, x=\"Season\", y=\"Wins\", hue=\"TeamName\", palette=\"Greens_r\", dodge=True, width=8)  # Increased bar width\n",
        "plt.xlabel(\"Season\")\n",
        "plt.ylabel(\"Tournament Wins\")\n",
        "plt.title(\"Men's Cinderella Teams (Seed ≥10, Wins ≥3)\")\n",
        "plt.xticks(rotation=45)\n",
        "plt.legend(title=\"Team\", bbox_to_anchor=(1.02, 1), loc='upper left')  # Adjusted legend position for clarity\n",
        "\n",
        "# Women's Cinderella Plot\n",
        "plt.subplot(1, 2, 2)\n",
        "sns.barplot(data=cinderella_women, x=\"Season\", y=\"Wins\", hue=\"TeamName\", palette=\"Oranges_r\")\n",
        "plt.xlabel(\"Season\")\n",
        "plt.ylabel(\"Tournament Wins\")\n",
        "plt.title(\"Women's Cinderella Teams (Seed ≥10, Wins ≥3)\")\n",
        "plt.xticks(rotation=45)\n",
        "plt.legend(title=\"Team\", bbox_to_anchor=(1, 1))\n",
        "\n",
        "plt.tight_layout()\n",
        "plt.show()"
      ],
      "metadata": {
        "trusted": true,
        "execution": {
          "iopub.status.busy": "2025-03-07T17:24:41.040868Z",
          "iopub.execute_input": "2025-03-07T17:24:41.041162Z",
          "iopub.status.idle": "2025-03-07T17:24:43.727899Z",
          "shell.execute_reply.started": "2025-03-07T17:24:41.041138Z",
          "shell.execute_reply": "2025-03-07T17:24:43.72667Z"
        },
        "id": "-HurYIPPH6Fv"
      },
      "outputs": [],
      "execution_count": null
    },
    {
      "cell_type": "markdown",
      "source": [
        "### Insights from Cinderella Teams Analysis (Seed ≥10, Wins ≥3)👆\n",
        "\n",
        "**Men's Tournament Shows More Cinderella Stories:**\n",
        "\n",
        "* The men's tournament has seen a significantly larger number of Cinderella teams (seed ≥10, wins ≥3) compared to the women's tournament.\n",
        "* This suggests that upsets by lower-seeded teams reaching the Sweet 16 or beyond are more frequent in the men's competition.\n",
        "\n",
        "**Women's Cinderella Teams Are Less Frequent but Still Notable:**\n",
        "\n",
        "* While less frequent, the women's tournament has also witnessed Cinderella runs. The chart highlights Gonzaga, Oregon, and Creighton's achievements.\n",
        "* These instances demonstrate that upsets and deep tournament runs are possible for lower-seeded teams in the women's bracket as well.\n",
        "\n",
        "**Temporal Distribution of Cinderella Runs:**\n",
        "\n",
        "* **Men's:** Cinderella runs are spread across various years, with some periods seeing multiple upsets (e.g., late 2000s, mid-2010s). This indicates that there's no single era where upsets are concentrated.\n",
        "* **Women's:** The women's Cinderella runs shown are clustered in the 2010s and early 2020s. Further analysis may reveal if there are any trends or factors contributing to this clustering.\n",
        "\n",
        "**Performance Variation Among Cinderella Teams:**\n",
        "\n",
        "* **Men's:** The number of wins for Cinderella teams in the men's tournament varies, with some reaching the Elite Eight or Final Four (4-5 wins) while others make it to the Sweet 16 (3 wins).\n",
        "* **Women's:** The three highlighted women's teams have all achieved 3 wins, indicating a Sweet 16 appearance."
      ],
      "metadata": {
        "id": "DpZmIzTkH6Fv"
      }
    },
    {
      "cell_type": "markdown",
      "source": [
        "# Clutch Factor – Close Game Performance"
      ],
      "metadata": {
        "id": "K-_Bi6VyH6Fv"
      }
    },
    {
      "cell_type": "code",
      "source": [
        "CLOSE_GAME_MARGIN = 5\n",
        "\n",
        "# close games for Mens Regular Season\n",
        "df_men_clutch_regular = df_MRegularSeasonCompactResults[\n",
        "    (df_MRegularSeasonCompactResults[\"WScore\"] - df_MRegularSeasonCompactResults[\"LScore\"]) <= CLOSE_GAME_MARGIN\n",
        "]\n",
        "\n",
        "# close games for Mens Tournament\n",
        "df_men_clutch_tourney = df_MNCAATourneyCompactResults[\n",
        "    (df_MNCAATourneyCompactResults[\"WScore\"] - df_MNCAATourneyCompactResults[\"LScore\"]) <= CLOSE_GAME_MARGIN\n",
        "]\n",
        "\n",
        "# Same for Womens Regular Season\n",
        "df_women_clutch_regular = df_WRegularSeasonCompactResults[\n",
        "    (df_WRegularSeasonCompactResults[\"WScore\"] - df_WRegularSeasonCompactResults[\"LScore\"]) <= CLOSE_GAME_MARGIN\n",
        "]\n",
        "\n",
        "# Same for Womens Tournament\n",
        "df_women_clutch_tourney = df_WNCAATourneyCompactResults[\n",
        "    (df_WNCAATourneyCompactResults[\"WScore\"] - df_WNCAATourneyCompactResults[\"LScore\"]) <= CLOSE_GAME_MARGIN\n",
        "]\n",
        "\n",
        "print(\"Men's Regular Season Close Games:\", df_men_clutch_regular.shape[0])\n",
        "print(\"Men's Tournament Close Games:\", df_men_clutch_tourney.shape[0])\n",
        "print(\"Women's Regular Season Close Games:\", df_women_clutch_regular.shape[0])\n",
        "print(\"Women's Tournament Close Games:\", df_women_clutch_tourney.shape[0])"
      ],
      "metadata": {
        "trusted": true,
        "execution": {
          "iopub.status.busy": "2025-03-07T17:27:31.196718Z",
          "iopub.execute_input": "2025-03-07T17:27:31.197131Z",
          "iopub.status.idle": "2025-03-07T17:27:31.217508Z",
          "shell.execute_reply.started": "2025-03-07T17:27:31.197098Z",
          "shell.execute_reply": "2025-03-07T17:27:31.216162Z"
        },
        "id": "tElDwCkbH6Fv"
      },
      "outputs": [],
      "execution_count": null
    },
    {
      "cell_type": "markdown",
      "source": [
        "# Close Game Win Percentages"
      ],
      "metadata": {
        "id": "lH_XVdZYH6Fw"
      }
    },
    {
      "cell_type": "code",
      "source": [
        "df_MRegularSeasonCompactResults[\"WinMargin\"] = df_MRegularSeasonCompactResults[\"WScore\"] - df_MRegularSeasonCompactResults[\"LScore\"]\n",
        "df_MNCAATourneyCompactResults[\"WinMargin\"] = df_MNCAATourneyCompactResults[\"WScore\"] - df_MNCAATourneyCompactResults[\"LScore\"]\n",
        "\n",
        "df_WRegularSeasonCompactResults[\"WinMargin\"] = df_WRegularSeasonCompactResults[\"WScore\"] - df_WRegularSeasonCompactResults[\"LScore\"]\n",
        "df_WNCAATourneyCompactResults[\"WinMargin\"] = df_WNCAATourneyCompactResults[\"WScore\"] - df_WNCAATourneyCompactResults[\"LScore\"]\n",
        "\n",
        "\n",
        "def compute_close_game_win_pct(df, season_type):\n",
        "    close_wins = df[df[\"WinMargin\"] <= 5].groupby(\"WTeamID\").size().reset_index(name=\"CloseWins\")\n",
        "\n",
        "    # Total games played per team (as winner)\n",
        "    total_games = df.groupby(\"WTeamID\").size().reset_index(name=\"TotalWins\")\n",
        "\n",
        "    close_win_pct = total_games.merge(close_wins, on=\"WTeamID\", how=\"left\").fillna(0)\n",
        "    close_win_pct[\"CloseWinPct\"] = close_win_pct[\"CloseWins\"] / close_win_pct[\"TotalWins\"]\n",
        "\n",
        "    # Adding season type for reference\n",
        "    close_win_pct[\"SeasonType\"] = season_type\n",
        "    return close_win_pct\n",
        "\n",
        "men_close_win_pct_reg = compute_close_game_win_pct(df_MRegularSeasonCompactResults, \"Regular Season\")\n",
        "men_close_win_pct_tourney = compute_close_game_win_pct(df_MNCAATourneyCompactResults, \"Tournament\")\n",
        "\n",
        "women_close_win_pct_reg = compute_close_game_win_pct(df_WRegularSeasonCompactResults, \"Regular Season\")\n",
        "women_close_win_pct_tourney = compute_close_game_win_pct(df_WNCAATourneyCompactResults, \"Tournament\")\n",
        "\n",
        "display(men_close_win_pct_reg.head(), men_close_win_pct_tourney.head())\n",
        "display(women_close_win_pct_reg.head(), women_close_win_pct_tourney.head())"
      ],
      "metadata": {
        "trusted": true,
        "execution": {
          "iopub.status.busy": "2025-03-07T17:30:31.624737Z",
          "iopub.execute_input": "2025-03-07T17:30:31.625073Z",
          "iopub.status.idle": "2025-03-07T17:30:31.694507Z",
          "shell.execute_reply.started": "2025-03-07T17:30:31.625046Z",
          "shell.execute_reply": "2025-03-07T17:30:31.693537Z"
        },
        "id": "-KtgVhLFH6Fw"
      },
      "outputs": [],
      "execution_count": null
    },
    {
      "cell_type": "code",
      "source": [
        "# Merging Mens Data\n",
        "men_close_win_compare = men_close_win_pct_reg.merge(\n",
        "    men_close_win_pct_tourney, on=\"WTeamID\", suffixes=(\"_Reg\", \"_Tourney\")\n",
        ")\n",
        "\n",
        "# Merging Womens Data\n",
        "women_close_win_compare = women_close_win_pct_reg.merge(\n",
        "    women_close_win_pct_tourney, on=\"WTeamID\", suffixes=(\"_Reg\", \"_Tourney\")\n",
        ")\n",
        "\n",
        "display(men_close_win_compare.head(), women_close_win_compare.head())"
      ],
      "metadata": {
        "trusted": true,
        "execution": {
          "iopub.status.busy": "2025-03-07T17:32:00.059781Z",
          "iopub.execute_input": "2025-03-07T17:32:00.060163Z",
          "iopub.status.idle": "2025-03-07T17:32:00.093136Z",
          "shell.execute_reply.started": "2025-03-07T17:32:00.060134Z",
          "shell.execute_reply": "2025-03-07T17:32:00.092073Z"
        },
        "id": "fNk8Anx7H6Fw"
      },
      "outputs": [],
      "execution_count": null
    },
    {
      "cell_type": "markdown",
      "source": [
        "## Close Game Win% for Regular Season VS Tournament"
      ],
      "metadata": {
        "id": "5UOZHWo8H6Fw"
      }
    },
    {
      "cell_type": "code",
      "source": [
        "plt.figure(figsize=(14, 6))\n",
        "\n",
        "# Mens Tournament Close Win Percentage vs. Regular Season\n",
        "plt.subplot(1, 2, 1)\n",
        "sns.scatterplot(x=men_close_win_compare[\"CloseWinPct_Reg\"],\n",
        "                y=men_close_win_compare[\"CloseWinPct_Tourney\"], alpha=0.7)\n",
        "plt.plot([0, 1], [0, 1], 'r--', label=\"1:1 Line\")\n",
        "plt.xlabel(\"Regular Season Close Win %\")\n",
        "plt.ylabel(\"Tournament Close Win %\")\n",
        "plt.title(\"Men's Close Game Win %: Regular Season vs. Tournament\")\n",
        "plt.legend()\n",
        "\n",
        "# Womens Tournament Close Win Percentage vs. Regular Season\n",
        "plt.subplot(1, 2, 2)\n",
        "sns.scatterplot(x=women_close_win_compare[\"CloseWinPct_Reg\"],\n",
        "                y=women_close_win_compare[\"CloseWinPct_Tourney\"], alpha=0.7)\n",
        "plt.plot([0, 1], [0, 1], 'r--', label=\"1:1 Line\")\n",
        "plt.xlabel(\"Regular Season Close Win %\")\n",
        "plt.ylabel(\"Tournament Close Win %\")\n",
        "plt.title(\"Women's Close Game Win %: Regular Season vs. Tournament\")\n",
        "plt.legend()\n",
        "\n",
        "# Show plots\n",
        "plt.tight_layout()\n",
        "plt.show()"
      ],
      "metadata": {
        "trusted": true,
        "execution": {
          "iopub.status.busy": "2025-03-07T17:32:26.758481Z",
          "iopub.execute_input": "2025-03-07T17:32:26.758896Z",
          "iopub.status.idle": "2025-03-07T17:32:27.487133Z",
          "shell.execute_reply.started": "2025-03-07T17:32:26.758862Z",
          "shell.execute_reply": "2025-03-07T17:32:27.486077Z"
        },
        "id": "CqMU7LjIH6Fw"
      },
      "outputs": [],
      "execution_count": null
    },
    {
      "cell_type": "markdown",
      "source": [
        "### Insights from Close Game Win Percentage Analysis👆\n",
        "\n",
        "**Men's and Women's Teams Show Similar Trends:**\n",
        "\n",
        "* Both men's and women's teams exhibit a wide range of close game win percentages in both the regular season and tournaments.\n",
        "* There's a noticeable cluster of teams with lower close game win percentages in both the regular season and the tournament, particularly for the women's data.\n",
        "\n",
        "**Tournament Performance Doesn't Perfectly Mirror Regular Season:**\n",
        "\n",
        "* While there's a general trend of teams with higher regular season close game win percentages also performing better in tournaments, it's not a perfect correlation.\n",
        "* Many teams deviate from the 1:1 line, indicating that close game performance in the regular season doesn't guarantee similar success in the tournament.\n",
        "* Some teams significantly underperform in the tournament compared to their regular season close game win percentage, and vice versa."
      ],
      "metadata": {
        "id": "HlozeicFH6Fw"
      }
    },
    {
      "cell_type": "markdown",
      "source": [
        "<div style=\"text-align: center; padding: 30px; border: 3px solid #007bff; border-radius: 15px; background-color: #f8f9fa; box-shadow: 5px 5px 10px #ddd;\">\n",
        "\n",
        "  <h2 style=\"color: #007bff; font-family: 'Arial', sans-serif;\">Thank You!</h2>\n",
        "\n",
        "  <p style=\"font-size: 18px; line-height: 1.6; color: #333; font-family: 'Verdana', sans-serif;\">Thank you for staying with me to the end of this exploratory data analysis! I hope you found the insights helpful and the visualizations informative.</p>\n",
        "\n",
        "  <p style=\"font-size: 16px; color: #555; font-family: 'Roboto', sans-serif;\">If you have any thoughts on how this notebook could be improved, please share your feedback in the comments. I appreciate your input!</p>\n",
        "\n",
        "  <p style=\"font-size: 16px; color: #555; font-family: 'Roboto', sans-serif;\">If you're interested in seeing how this data can be used for prediction, stay tuned for my upcoming prediction notebook. And if you found this notebook valuable, please consider upvoting it. Your support is greatly appreciated!</p>\n",
        "</div>"
      ],
      "metadata": {
        "id": "2iH9dB0FH6Fw"
      }
    },
    {
      "cell_type": "code",
      "source": [],
      "metadata": {
        "trusted": true,
        "id": "kVIt6BB2H6Fw"
      },
      "outputs": [],
      "execution_count": null
    }
  ]
}